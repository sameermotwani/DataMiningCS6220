{
 "cells": [
  {
   "cell_type": "markdown",
   "metadata": {},
   "source": [
    "# StackOverflow Analysis: Milestone 1"
   ]
  },
  {
   "cell_type": "code",
   "execution_count": 41,
   "metadata": {
    "collapsed": false
   },
   "outputs": [],
   "source": [
    "### Imports, functions and global variables\n",
    "import sys\n",
    "import os\n",
    "import re\n",
    "from bs4 import BeautifulSoup as Soup\n",
    "from collections import Counter\n",
    "from collections import defaultdict\n",
    "from collections import Counter\n",
    "import numpy as np\n",
    "import matplotlib.pyplot as plt\n",
    "#import pyspark\n",
    "#import numpy as np\n",
    "#from pyspark import SparkContext\n",
    "#from pyspark.mllib.fpm import FPGrowth\n",
    "\n",
    "#SparkContext.setSystemProperty('spark.executor.memory','3g')\n",
    "#sc = pyspark.SparkContext('local[*]')\n",
    "\n",
    "## Global variables\n",
    "\n",
    "totalquestions=0\n",
    "totalQuestionswithacceptedanswers=0\n",
    "totalQuestionswithnoacceptedanswers=0\n",
    "bodydict=dict()\n",
    "\n",
    "posts_by_tag = defaultdict()\n",
    "tags_by_year = defaultdict()\n",
    "tags_by_post_id = defaultdict()\n",
    "userdict=dict()\n",
    "tags=list()\n",
    "\n",
    "acceptedanswers=list()\n",
    "bestuser=list()\n",
    "\n",
    "def populate_posts_by_tag(tag,post_id):\n",
    "    global posts_by_tag\n",
    "    if tag == '':\n",
    "        return\n",
    "    if post_id == '':\n",
    "        return\n",
    "\n",
    "    if tag not in posts_by_tag:\n",
    "        posts_by_tag[tag] = set()\n",
    "    posts_by_tag[tag].add(int(post_id))\n",
    "\n",
    "def populate_tags_by_post_id(id,tag):\n",
    "    global tags_by_post_id\n",
    "    if tag == '':\n",
    "        return\n",
    "    if id == '':\n",
    "        return\n",
    "\n",
    "    if id not in tags_by_post_id:\n",
    "        tags_by_post_id[id] = list()\n",
    "    tags_by_post_id[id].append(tag)\n",
    "    \n",
    "def populate_tags_by_year(tag,year):\n",
    "    global tags_by_year\n",
    "    if tag == '':\n",
    "        return\n",
    "    if year == '':\n",
    "        return\n",
    "\n",
    "    if tag not in tags_by_year:\n",
    "        tags_by_year[tag] = list()\n",
    "    tags_by_year[tag].append(year)\n",
    "\n",
    "def plot_tags(tagCount):\n",
    "    \n",
    "    x,y = zip(*tagCount)\n",
    "\n",
    "    colormap = plt.cm.gist_ncar #nipy_spectral, Set1,Paired  \n",
    "    colors = [colormap(i) for i in np.linspace(0, 0.8,50)]   \n",
    "\n",
    "    area = [i/100 for i in list(y)]   # 0 to 15 point radiuses\n",
    "    plt.figure(figsize=(8,8))\n",
    "    plt.ylabel(\"Number of question associations\")\n",
    "    for i in range(len(y)):\n",
    "        plt.plot(i+0.5,y[i], marker='o', linestyle='',ms=area[i],label=x[i])\n",
    "\n",
    "    plt.legend(numpoints=1)\n",
    "    plt.show()\n",
    "    \n",
    "def parse_posts(file):\n",
    "    global totalquestions,totalQuestionswithacceptedanswers,totalQuestionswithnoacceptedanswers,bodydict\n",
    "\n",
    "    count=0\n",
    "    with open(file, encoding='utf8') as handler:\n",
    "        soup = Soup(handler,\"html.parser\")\n",
    "        for message in soup.findAll('row'):\n",
    "            msg_attrs = dict(message.attrs)\n",
    "            id = msg_attrs['id']     \n",
    "\n",
    "            if 'tags' in msg_attrs:\n",
    "                year =  msg_attrs['creationdate'].split(\"-\")[0]\n",
    "                #print(year)\n",
    "                msg_attrs=(msg_attrs[u'tags'].replace('<','').replace('>',','))\n",
    "                for msg in msg_attrs.split(','):\n",
    "                    tags.append(msg)\n",
    "                    populate_posts_by_tag(msg,id)\n",
    "                    populate_tags_by_year(msg,year)\n",
    "                    populate_tags_by_post_id(id,msg)\n",
    "            \n",
    "            msg_attrs = dict(message.attrs)\n",
    "            posttypeid = msg_attrs['posttypeid']\n",
    "            \n",
    "            if posttypeid == \"1\":\n",
    "                totalquestions+=1\n",
    "                if 'body' in msg_attrs:\n",
    "                    #id=(msg_attrs[u'id'])\n",
    "                    body=(msg_attrs[u'body'])\n",
    "                    bodydict[id]=Soup(body,\"html.parser\").getText()\n",
    "                \n",
    "                if 'acceptedanswerid' in msg_attrs:\n",
    "                    totalQuestionswithacceptedanswers+=1\n",
    "                    acceptedanswerid = msg_attrs['acceptedanswerid']\n",
    "                    acceptedanswers.append(acceptedanswerid)\n",
    "                else:\n",
    "                    totalQuestionswithnoacceptedanswers+=1\n",
    "            else:\n",
    "                if id in acceptedanswers and 'owneruserid' in msg_attrs:\n",
    "                     bestuser.append(msg_attrs['owneruserid'])\n",
    "                    \n",
    "                #count=count+1\n",
    "\n",
    "            # if count == 5:\n",
    "            #     break\n",
    "            \n",
    "def parse_users(file):\n",
    "    global userdict\n",
    "    count=0\n",
    "    with open(file, encoding='utf8') as handler:\n",
    "        soup = Soup(handler,\"html.parser\")\n",
    "        for message in soup.findAll('row'):\n",
    "            msg_attrs = dict(message.attrs)\n",
    "            id=(msg_attrs[u'id'])\n",
    "            username=(msg_attrs[u'displayname'])\n",
    "            userdict[id]=username                   "
   ]
  },
  {
   "cell_type": "code",
   "execution_count": 42,
   "metadata": {
    "collapsed": false
   },
   "outputs": [
    {
     "name": "stdout",
     "output_type": "stream",
     "text": [
      "Top 20 most common tags, and the number of their occurences : [('java', 3511), ('c#', 3007), ('design', 2886), ('design-patterns', 2475), ('object-oriented', 2036), ('c++', 1822), ('algorithms', 1732), ('php', 1667), ('architecture', 1639), ('javascript', 1578), ('licensing', 1269), ('database', 1256), ('web-development', 1223), ('programming-languages', 1205), ('python', 1183), ('programming-practices', 1167), ('.net', 1084), ('unit-testing', 1063), ('c', 958), ('testing', 956)]\n"
     ]
    }
   ],
   "source": [
    "parse_posts(\"C:\\\\Users\\\\samym\\\\Downloads\\\\programmers.stackexchange.com\\\\Posts2.xml\")\n",
    "tags=list(filter(None, tags))\n",
    "counts=dict()\n",
    "\n",
    "top_20_words = Counter(tags).most_common(20)\n",
    "print(\"Top 20 most common tags, and the number of their occurences :\", top_20_words)"
   ]
  },
  {
   "cell_type": "code",
   "execution_count": 43,
   "metadata": {
    "collapsed": false
   },
   "outputs": [
    {
     "name": "stdout",
     "output_type": "stream",
     "text": [
      "42782\n"
     ]
    }
   ],
   "source": [
    "print(len(bodydict.keys()))"
   ]
  },
  {
   "cell_type": "code",
   "execution_count": 44,
   "metadata": {
    "collapsed": false
   },
   "outputs": [
    {
     "name": "stdout",
     "output_type": "stream",
     "text": [
      "4000\n"
     ]
    }
   ],
   "source": [
    "import re\n",
    "newbodydict=dict()\n",
    "count=0\n",
    "from textblob import TextBlob\n",
    "for k,v in bodydict.items():\n",
    "    blob = TextBlob(v)\n",
    "    blob=set(blob.noun_phrases)\n",
    "    blob=' '.join(blob)\n",
    "    blob=re.sub('[^A-Za-z0-9 ]+', '', blob)\n",
    "    newbodydict[k]=blob\n",
    "    count+=1\n",
    "    if count == 4000:\n",
    "        break\n",
    "\n",
    "print(len(newbodydict.keys()))"
   ]
  },
  {
   "cell_type": "code",
   "execution_count": 5,
   "metadata": {
    "collapsed": false
   },
   "outputs": [
    {
     "name": "stdout",
     "output_type": "stream",
     "text": [
      "188337 I am working on a user driven cms site.  Think of it like stack overflow.  The users can write posts, and publish them to the web.  I am using a WSGI editor to generate the content.\n",
      "One of the features I am implementing is the ability for users to comment on particular section of a user post. I am trying to think of a clean way to implement this feature.\n",
      "My current plan is to customize the WYSIWYG editor to generate a unique id per <p> and then store the comments separately, and when the page loads also read the comments and do some jquery magic. All users that are going to be generating content will be admin users, so I am not afraid of someone messing around with ids.\n",
      "This is one approach I have found, but I was hoping to either get some feedback or alternative ways to accomplish what I need.  Another thing I am trying to figure out is how I can handle a user editing a post that has been commented on... \n",
      "\n"
     ]
    }
   ],
   "source": [
    "\n",
    "count=0\n",
    "\n",
    "for k,v in bodydict.items():\n",
    "    if count == 18001:\n",
    "        print(k,v)\n",
    "        break\n",
    "    count+=1\n",
    "\n",
    "#print(len(newbodydict.keys())) "
   ]
  },
  {
   "cell_type": "code",
   "execution_count": 45,
   "metadata": {
    "collapsed": false
   },
   "outputs": [],
   "source": [
    "import nltk\n",
    "#nltk.download()\n",
    "stopwords = nltk.corpus.stopwords.words('english')\n",
    "from nltk.stem.snowball import SnowballStemmer\n",
    "stemmer = SnowballStemmer(\"english\")\n",
    "\n",
    "def tokenize_and_stem(text):\n",
    "    # first tokenize by sentence, then by word to ensure that punctuation is caught as it's own token\n",
    "    tokens = [word for sent in nltk.sent_tokenize(text) for word in nltk.word_tokenize(sent)]\n",
    "    filtered_tokens = []\n",
    "    # filter out any tokens not containing letters (e.g., numeric tokens, raw punctuation)\n",
    "    for token in tokens:\n",
    "        if re.search('[a-zA-Z]', token):\n",
    "            filtered_tokens.append(token)\n",
    "    stems = [stemmer.stem(t) for t in filtered_tokens]\n",
    "    return stems\n",
    "\n",
    "def tokenize_only(text):\n",
    "    # first tokenize by sentence, then by word to ensure that punctuation is caught as it's own token\n",
    "    tokens = [word.lower() for sent in nltk.sent_tokenize(text) for word in nltk.word_tokenize(sent)]\n",
    "    filtered_tokens = []\n",
    "    # filter out any tokens not containing letters (e.g., numeric tokens, raw punctuation)\n",
    "    for token in tokens:\n",
    "        if re.search('[a-zA-Z]', token):\n",
    "            filtered_tokens.append(token)\n",
    "    return filtered_tokens"
   ]
  },
  {
   "cell_type": "markdown",
   "metadata": {},
   "source": [
    "# Inspect top 20 tags for this data set.\n",
    "\n",
    "Each post on the website can be associated with multiple tags, which classify the post into a broad topic/category.\n",
    "By counting tag occurences, we determine the top 20 tags. This reflects the popularity of programming topics that users have questions about on the website."
   ]
  },
  {
   "cell_type": "code",
   "execution_count": 46,
   "metadata": {
    "collapsed": false
   },
   "outputs": [],
   "source": [
    "totalvocab_stemmed = []\n",
    "totalvocab_tokenized = []\n",
    "\n",
    "for k,v in newbodydict.items():\n",
    "    allwords_stemmed = tokenize_and_stem(v)\n",
    "    totalvocab_stemmed.extend(allwords_stemmed)\n",
    "    allwords_tokenized = tokenize_only(v)\n",
    "    totalvocab_tokenized.extend(allwords_tokenized)"
   ]
  },
  {
   "cell_type": "code",
   "execution_count": 47,
   "metadata": {
    "collapsed": false
   },
   "outputs": [],
   "source": [
    "import pandas as pd"
   ]
  },
  {
   "cell_type": "code",
   "execution_count": 48,
   "metadata": {
    "collapsed": false
   },
   "outputs": [
    {
     "name": "stdout",
     "output_type": "stream",
     "text": [
      "Wall time: 2.7 s\n",
      "(4000, 338)\n"
     ]
    }
   ],
   "source": [
    "from sklearn.feature_extraction.text import TfidfVectorizer\n",
    "\n",
    "tfidf_vectorizer = TfidfVectorizer(max_df=0.4, max_features=200000,\n",
    "                                 min_df=0.01, stop_words='english',\n",
    "                                 use_idf=True, tokenizer=tokenize_and_stem, ngram_range=(1,3))\n",
    "\n",
    "%time tfidf_matrix = tfidf_vectorizer.fit_transform(newbodydict.values())\n",
    "\n",
    "print(tfidf_matrix.shape)"
   ]
  },
  {
   "cell_type": "code",
   "execution_count": 49,
   "metadata": {
    "collapsed": false
   },
   "outputs": [
    {
     "name": "stdout",
     "output_type": "stream",
     "text": [
      "(2700, 338)\n"
     ]
    }
   ],
   "source": [
    "train_matrix=tfidf_matrix[:2700]\n",
    "print(train_matrix.shape)"
   ]
  },
  {
   "cell_type": "code",
   "execution_count": 50,
   "metadata": {
    "collapsed": false
   },
   "outputs": [
    {
     "name": "stdout",
     "output_type": "stream",
     "text": [
      "(1300, 338)\n"
     ]
    }
   ],
   "source": [
    "test_matrix=tfidf_matrix[2700:]\n",
    "print(test_matrix.shape)"
   ]
  },
  {
   "cell_type": "code",
   "execution_count": 51,
   "metadata": {
    "collapsed": false,
    "scrolled": true
   },
   "outputs": [
    {
     "name": "stdout",
     "output_type": "stream",
     "text": [
      "['abstract', 'access', 'activ', 'actual', 'addit', 'agil', 'algorithm', 'altern', 'analysi', 'andor', 'android', 'answer', 'api', 'app', 'applic', 'approach', 'architectur', 'area', 'aspnet', 'background', 'bad', 'base', 'basic', 'benefit', 'big', 'bit', 'book', 'browser', 'bug', 'build', 'busi', 'c', 'ca', 'ca nt', 'case', 'certain', 'chang', 'choic', 'class', 'clear', 'client', 'code', 'code base', 'code review', 'comment', 'commerci', 'common', 'communic', 'communiti', 'compani', 'compil', 'complet', 'complex', 'comput', 'comput scienc', 'concept', 'content', 'control', 'core', 'cost', 'cs', 'css', 'current', 'custom', 'data', 'data structur', 'databas', 'day', 'decent', 'decis', 'depend', 'design', 'design pattern', 'desktop', 'dev', 'develop', 'develop team', 'differ', 'discuss', 'document', 'doe', 'domain', 'duplic', 'easi', 'edit', 'effect', 'email', 'end', 'engin', 'entir', 'environ', 'error', 'exampl', 'experi', 'extern', 'extra', 'featur', 'feel', 'field', 'file', 'final', 'fix', 'form', 'framework', 'free', 'function', 'futur', 'game', 'general', 'generat', 'good', 'good idea', 'good way', 'googl', 'gpl', 'great', 'group', 'gui', 'hard', 'high', 'html', 'huge', 'ide', 'idea', 'implement', 'import', 'industri', 'inform', 'initi', 'input', 'int', 'integr', 'interfac', 'intern', 'internet', 'interview', 'issu', 'java', 'java c', 'javascript', 'job', 'key', 'knowledg', 'languag', 'larg', 'layer', 'lead', 'learn', 'level', 'librari', 'licens', 'line', 'linux', 'list', 'll', 'local', 'logic', 'long', 'long time', 'look', 'lot', 'm', 'machin', 'main', 'major', 'manag', 'member', 'messag', 'method', 'methodolog', 'microsoft', 'model', 'ms', 'multipl', 'mvc', 'mysql', 'need', 'net', 'network', 'new', 'normal', 'nt', 'nt need', 'nt use', 'number', 'object', 'obvious', 'old', 'onlin', 'oo', 'oop', 'open', 'open sourc', 'open sourc project', 'opensourc', 'oper', 'option', 'origin', 'os', 'page', 'particular', 'pattern', 'peopl', 'perform', 'person', 'phone', 'php', 'place', 'plan', 'platform', 'pleas', 'point', 'posit', 'possibl', 'post', 'potenti', 'practic', 'pretti', 'previous', 'privat', 'problem', 'process', 'product', 'profession', 'program', 'programm', 'project', 'project manag', 'proper', 'ps', 'public', 'purpos', 'python', 'qualiti', 'question', 'rail', 'read', 'real', 'real world', 'reason', 'recent', 'refer', 'regular', 'relat', 'releas', 'repositori', 'requir', 'resourc', 'result', 'return', 'review', 'right', 'rubi', 'run', 's', 'scenario', 'scienc', 'scrum', 'search', 'secur', 'senior', 'separ', 'server', 'servic', 'set', 'short', 'similar', 'simpl', 'site', 'situat', 'skill', 'small', 'softwar', 'softwar develop', 'softwar engin', 'solut', 'sourc', 'sourc code', 'sourc control', 'sourc project', 'specif', 'sql', 'stack', 'standard', 'state', 'static', 'store', 'stori', 'string', 'structur', 'stuff', 'style', 'support', 'tabl', 'task', 'tdd', 'team', 'technic', 'technolog', 'term', 'test', 'text', 'thank', 'thing', 'time', 'tool', 'type', 'ui', 'understand', 'unit', 'unit test', 'updat', 'use', 'user', 'valid', 'valu', 'variabl', 'various', 'version', 'version control', 'view', 'visual', 'vs', 'way', 'web', 'web app', 'web applic', 'web develop', 'websit', 'window', 'wo', 'wo nt', 'work', 'world', 'wrong', 'x', 'xml', 'year']\n"
     ]
    }
   ],
   "source": [
    "terms = tfidf_vectorizer.get_feature_names()\n",
    "print (terms)"
   ]
  },
  {
   "cell_type": "code",
   "execution_count": 91,
   "metadata": {
    "collapsed": false,
    "scrolled": true
   },
   "outputs": [
    {
     "name": "stdout",
     "output_type": "stream",
     "text": [
      "Wall time: 394 ms\n"
     ]
    }
   ],
   "source": [
    "\n",
    "from sklearn.cluster import KMeans\n",
    "\n",
    "num_clusters = 10\n",
    "km = KMeans(n_clusters=num_clusters, init='k-means++', max_iter=100, n_init=1,\n",
    "                verbose=0)\n",
    "\n",
    "%time km.fit(train_matrix)\n",
    "\n",
    "clusters = km.labels_.tolist()"
   ]
  },
  {
   "cell_type": "code",
   "execution_count": 92,
   "metadata": {
    "collapsed": false
   },
   "outputs": [
    {
     "data": {
      "text/plain": [
       "0.028606826335576402"
      ]
     },
     "execution_count": 92,
     "metadata": {},
     "output_type": "execute_result"
    }
   ],
   "source": [
    "from sklearn import metrics\n",
    "labels = km.labels_\n",
    "metrics.silhouette_score(train_matrix, labels, metric='euclidean')"
   ]
  },
  {
   "cell_type": "code",
   "execution_count": 93,
   "metadata": {
    "collapsed": false
   },
   "outputs": [],
   "source": [
    "from sklearn.metrics.pairwise import cosine_similarity\n",
    "dist = 1 - cosine_similarity(train_matrix)"
   ]
  },
  {
   "cell_type": "code",
   "execution_count": 70,
   "metadata": {
    "collapsed": true
   },
   "outputs": [],
   "source": [
    "def runkmeans(n_clusters_end):\n",
    "    i=2\n",
    "    exp_k = i\n",
    "    exp_sc = -1\n",
    "    while i <= n_clusters_end:\n",
    "        print(i)\n",
    "        km1 = KMeans(n_clusters=i, init='k-means++', max_iter=100, n_init=1,\n",
    "                    verbose=0)\n",
    "\n",
    "        km1.fit(train_matrix) \n",
    "        labels = km1.labels_\n",
    "        score=metrics.silhouette_score(train_matrix, labels, metric='euclidean')\n",
    "        print(score)\n",
    "        if score > exp_sc:\n",
    "            exp_sc = score\n",
    "            exp_k = i\n",
    "        i+=1\n",
    "    print(exp_k, exp_sc)"
   ]
  },
  {
   "cell_type": "code",
   "execution_count": null,
   "metadata": {
    "collapsed": false,
    "scrolled": false
   },
   "outputs": [],
   "source": [
    "runkmeans(100)"
   ]
  },
  {
   "cell_type": "code",
   "execution_count": 94,
   "metadata": {
    "collapsed": true
   },
   "outputs": [],
   "source": [
    "postlist=list()\n",
    "for k in newbodydict.keys():\n",
    "    postlist.append(k)\n",
    "\n",
    "#print(postlist)"
   ]
  },
  {
   "cell_type": "code",
   "execution_count": 95,
   "metadata": {
    "collapsed": false,
    "scrolled": false
   },
   "outputs": [],
   "source": [
    "import pandas as pd\n",
    "\n",
    "Assignments = { 'post': postlist[:2700], 'cluster': clusters }\n",
    "\n",
    "frame = pd.DataFrame(Assignments, index = [clusters] , columns = ['post', 'cluster'])"
   ]
  },
  {
   "cell_type": "code",
   "execution_count": 96,
   "metadata": {
    "collapsed": false
   },
   "outputs": [
    {
     "data": {
      "text/plain": [
       "0    1173\n",
       "4     221\n",
       "5     201\n",
       "7     200\n",
       "3     197\n",
       "2     193\n",
       "8     153\n",
       "6     153\n",
       "9     114\n",
       "1      95\n",
       "Name: cluster, dtype: int64"
      ]
     },
     "execution_count": 96,
     "metadata": {},
     "output_type": "execute_result"
    }
   ],
   "source": [
    "frame['cluster'].value_counts()\n"
   ]
  },
  {
   "cell_type": "code",
   "execution_count": 97,
   "metadata": {
    "collapsed": false
   },
   "outputs": [
    {
     "name": "stdout",
     "output_type": "stream",
     "text": [
      "Cluster 0: s good languag programm differ time program java user data new design doe use method function window question class thing person specif thank work databas job technic python file real practic common edit problem team current sql manag googl php experi object exampl idea basic nt comput framework compani variabl small bug type bad javascript need book peopl simpl level pattern model ide busi product point great long right big general multipl support number updat m reason particular agil inform control previous error standard code learn string logic site key access structur version tool static microsoft api public scienc complex case line task softwar design pattern stack valu abstract high solut world concept int return free server end net larg gui onlin implement email librari html various project applic engin requir issu read websit major resourc domain interview document app visual process core certain text input architectur tabl obvious skill ll ui old duplic chang xml year recent list form refer vs algorithm day view andor approach x similar c main aspnet background environ hard field platform comput scienc pretti custom final scrum technolog phone term place extra perform rail oper futur client rubi analysi run oo separ communic area data structur actual featur cs good idea short result import real world sourc search android page complet communiti layer member feel build group possibl privat fix store post oop comment machin messag regular choic servic interfac origin ms stori long time methodolog state content situat develop base valid web style depend benefit game huge discuss local ps entir relat answer decis mvc purpos option way compil stuff internet posit altern nt need wo nt wo profession review css generat qualiti linux secur addit knowledg repositori set bit plan integr pleas gpl look dev releas tdd industri senior nt use browser proper lot cost scenario version control commerci clear os intern activ decent potenti wrong test normal desktop licens opensourc effect extern sourc control lead initi easi network understand unit mysql open code base ca sourc code ca nt develop team softwar develop web app softwar engin code review good way project manag unit test sourc project open sourc project web develop java c open sourc web applic\n",
      "\n",
      "Cluster 0 Posts: 1, 9, 18, 39, 42, 44, 221, 247, 252, 257, 262, 404, 487, 500, 501, 502, 507, 566, 568, 570, 604, 616, 648, 739, 756, 812, 870, 874, 940, 1009, 1058, 1060, 1063, 1065, 1070, 1095, 1135, 1151, 1217, 1262, 1280, 1338, 1376, 1474, 1588, 1620, 1750, 1752, 1885, 1890, 1947, 1997, 2051, 2086, 2164, 2204, 2247, 2252, 2259, 2410, 2829, 2932, 2948, 3049, 3069, 3233, 3272, 3383, 3425, 3438, 3645, 3678, 3730, 3747, 3766, 3851, 3884, 3918, 3921, 4142, 4180, 4200, 4250, 4272, 4274, 4296, 4325, 4391, 4418, 4662, 4765, 4889, 5074, 5119, 5120, 5232, 5297, 5331, 5341, 5372, 5452, 5597, 5705, 5727, 5916, 6045, 6133, 6146, 6255, 6394, 6526, 6543, 6587, 6662, 6665, 6827, 6884, 6905, 6974, 7000, 7008, 7038, 7055, 7057, 7126, 7157, 7166, 7230, 7242, 7245, 7325, 7349, 7439, 7456, 7472, 7502, 7505, 7516, 7530, 7536, 7539, 7551, 7559, 7686, 7705, 7747, 7915, 7993, 8020, 8093, 8119, 8187, 8236, 8254, 8283, 8311, 8352, 8391, 8402, 8429, 8544, 8560, 8564, 8588, 8631, 8660, 8677, 8748, 8890, 8955, 8986, 8988, 9006, 9013, 9099, 9175, 9180, 9219, 9313, 9445, 9447, 9498, 9521, 9572, 9598, 9605, 9657, 9675, 9714, 9730, 9788, 9813, 9814, 9843, 9872, 9948, 9960, 9965, 10002, 10032, 10094, 10103, 10136, 10166, 10172, 10233, 10277, 10292, 10358, 10379, 10424, 10512, 10567, 10574, 10581, 10605, 10651, 10672, 10675, 10735, 10793, 10816, 10835, 10865, 10899, 10916, 10927, 10989, 10998, 11002, 11120, 11121, 11199, 11222, 11312, 11400, 11512, 11523, 11546, 11769, 11785, 11855, 11889, 12005, 12133, 12165, 12171, 12229, 12279, 12322, 12343, 12359, 12369, 12401, 12423, 12444, 12450, 12475, 12572, 12645, 12773, 12807, 12861, 12864, 12933, 13001, 13034, 13053, 13061, 13084, 13091, 13142, 13207, 13212, 13376, 13384, 13397, 13443, 13540, 13556, 13623, 13641, 13676, 13693, 13798, 14047, 14052, 14092, 14200, 14254, 14271, 14326, 14335, 14461, 14467, 14472, 14474, 14492, 14584, 14596, 14635, 14650, 14727, 14728, 14745, 14781, 14789, 14856, 14914, 15004, 15086, 15112, 15114, 15124, 15159, 15207, 15209, 15241, 15269, 15286, 15350, 15360, 15379, 15391, 15397, 15466, 15515, 15527, 15528, 15556, 15567, 15635, 15673, 15730, 15736, 15776, 15819, 15820, 15839, 15873, 15928, 15956, 16025, 16070, 16089, 16109, 16141, 16179, 16189, 16211, 16243, 16260, 16308, 16323, 16354, 16436, 16445, 16463, 16528, 16571, 16646, 16654, 16760, 16807, 16836, 16905, 16913, 16975, 17059, 17079, 17099, 17105, 17111, 17121, 17214, 17226, 17305, 17310, 17315, 17355, 17427, 17428, 17438, 17498, 17590, 17600, 17632, 17639, 17645, 17696, 17700, 17729, 17824, 17826, 17843, 17898, 17912, 17971, 17976, 17979, 17984, 17995, 18026, 18059, 18086, 18116, 18161, 18240, 18339, 18357, 18454, 18567, 18585, 18669, 18679, 18704, 18737, 18813, 18868, 18886, 18952, 18959, 18975, 18979, 19030, 19031, 19104, 19199, 19203, 19225, 19244, 19274, 19278, 19392, 19416, 19425, 19449, 19541, 19584, 19592, 19627, 19673, 19701, 19718, 19770, 19842, 19888, 19911, 19941, 20036, 20040, 20109, 20116, 20204, 20206, 20293, 20407, 20466, 20472, 20536, 20564, 20573, 20596, 20653, 20729, 20800, 20801, 20832, 20896, 20909, 20927, 20949, 20950, 21082, 21142, 21186, 21217, 21256, 21300, 21387, 21397, 21436, 21440, 21456, 21467, 21480, 21534, 21535, 21562, 21571, 21575, 21617, 21623, 21697, 21702, 21802, 21843, 21870, 21896, 21950, 21977, 21987, 22050, 22079, 22124, 22158, 22249, 22265, 22347, 22363, 22468, 22528, 22552, 22623, 22642, 22643, 22685, 22721, 22742, 22762, 22885, 22993, 23019, 23098, 23120, 23121, 23182, 23215, 23276, 23280, 23295, 23303, 23309, 23313, 23364, 23404, 23455, 23506, 23507, 23523, 23691, 23816, 23852, 23863, 23885, 23915, 23942, 23974, 24036, 24079, 24147, 24310, 24342, 24343, 24378, 24398, 24412, 24460, 24464, 24466, 24526, 24542, 24565, 24608, 24615, 24643, 24658, 24691, 24771, 24798, 24801, 24804, 24812, 24823, 24826, 24834, 24910, 24922, 24936, 24940, 24987, 24997, 25037, 25046, 25052, 25056, 25063, 25067, 25116, 25131, 25135, 25197, 25267, 25285, 25353, 25366, 25385, 25416, 25486, 25487, 25509, 25526, 25644, 25665, 25707, 25727, 25728, 25761, 25773, 25811, 25826, 25858, 25888, 25895, 25963, 25969, 25978, 26012, 26033, 26037, 26107, 26188, 26284, 26295, 26301, 26349, 26385, 26438, 26473, 26544, 26548, 26596, 26599, 26682, 26700, 26708, 26775, 26801, 26842, 26847, 26885, 26906, 26949, 27096, 27145, 27148, 27164, 27207, 27240, 27252, 27338, 27400, 27410, 27483, 27491, 27564, 27644, 27661, 27666, 27689, 27798, 27886, 27954, 27982, 27985, 27998, 28047, 28050, 28113, 28187, 28199, 28228, 28238, 28272, 28306, 28352, 28376, 28468, 28484, 28547, 28551, 28573, 28632, 28667, 28834, 28885, 28947, 28950, 28978, 28985, 29001, 29026, 29049, 29062, 29072, 29075, 29113, 29177, 29234, 29268, 29280, 29344, 29421, 29422, 29485, 29534, 29550, 29553, 29614, 29726, 29753, 29782, 29792, 29821, 29831, 29832, 29839, 29845, 29852, 29866, 29921, 29999, 30029, 30057, 30073, 30076, 30091, 30101, 30110, 30135, 30140, 30171, 30210, 30245, 30255, 30355, 30449, 30741, 30889, 30908, 30985, 31011, 31047, 31063, 31548, 31550, 31558, 31568, 31630, 31683, 31719, 31733, 32418, 32425, 32490, 32504, 32578, 32581, 32617, 32618, 32630, 32674, 32727, 32756, 32830, 32832, 32840, 32872, 32893, 32953, 32956, 32964, 33004, 33028, 33036, 33082, 33096, 33115, 33156, 33157, 33170, 33182, 33293, 33349, 33377, 33379, 33460, 33509, 33532, 33568, 33596, 33722, 33777, 33816, 33851, 33890, 33920, 33954, 33959, 34012, 34028, 34081, 34120, 34134, 34166, 34179, 34200, 34209, 34246, 34265, 34267, 34338, 34379, 34456, 34473, 34485, 34492, 34512, 34526, 34540, 34559, 34584, 34609, 34759, 34761, 34768, 34773, 34791, 34806, 34820, 34867, 34906, 34952, 34982, 35033, 35074, 35150, 35159, 35242, 35262, 35346, 35412, 35432, 35471, 35501, 35579, 35594, 35595, 35727, 35728, 35755, 35776, 35788, 35800, 35904, 35917, 35939, 36029, 36060, 36067, 36105, 36108, 36116, 36122, 36168, 36191, 36241, 36287, 36311, 36380, 36415, 36441, 36443, 36480, 36491, 36503, 36524, 36543, 36556, 36571, 36579, 36612, 36787, 36816, 36875, 36896, 36925, 36985, 37029, 37033, 37047, 37051, 37063, 37079, 37242, 37249, 37278, 37285, 37294, 37307, 37317, 37339, 37411, 37440, 37451, 37475, 37495, 37533, 37580, 37619, 37629, 37673, 37677, 37691, 37773, 37798, 37862, 37981, 38002, 38003, 38037, 38095, 38116, 38131, 38145, 38213, 38321, 38324, 38361, 38368, 38380, 38382, 38423, 38439, 38463, 38516, 38569, 38590, 38597, 38604, 38642, 38746, 38749, 38772, 38822, 38833, 38901, 38931, 38966, 39032, 39063, 39196, 39231, 39282, 39302, 39363, 39368, 39378, 39449, 39468, 39535, 39647, 39676, 39677, 39687, 39720, 39727, 39771, 39791, 39835, 39842, 39843, 39845, 39900, 39923, 40000, 40059, 40063, 40172, 40284, 40285, 40313, 40336, 40389, 40401, 40443, 40454, 40495, 40508, 40541, 40561, 40614, 40692, 40714, 40715, 40738, 40829, 40838, 40845, 40894, 40903, 40981, 41160, 41195, 41200, 41238, 41248, 41270, 41283, 41291, 41301, 41376, 41411, 41419, 41435, 41473, 41539, 41554, 41577, 41668, 41671, 41683, 41732, 41739, 41740, 41741, 41750, 41835, 41841, 41880, 41925, 41978, 41981, 41990, 42044, 42089, 42097, 42103, 42110, 42112, 42114, 42142, 42193, 42225, 42253, 42269, 42339, 42628, 42697, 42767, 42792, 42803, 42838, 42895, 42930, 43054, 43081, 43095, 43134, 43140, 43155, 43179, 43200, 43242, 43279, 43329, 43356, 43442, 43460, 43494, 43732, 43754, 43764, 43807, 43899, 43927, 43983, 44026, 44062, 44066, 44079, 44090, 44148, 44150, 44156, 44158, 44632, 44666, 44731, 44774, 44776, 44870, 44888, 44915, 44918, 44994, 45031, 45097, 45111, 45116, 45138, 45155, 45195, 45240, 45272, 45349, 45479, 45564, 45643, 45698, 45707, 45827, 45855, 45901, 45931, 45969, 45982, 46004, 46029, 46154, 46284, 46299, 46315, 46383, 46398, 46404, 46411, 46420, 46434, 46552, 46564, 46582, 46584, 46698, 46894, 47032, 47059, 47070, 47073, 47090, 47148, 47176, 47192, 47197, 47302, 47360, 47370, 47388, 47451, 47454, 47474, 47480, 47488, 47497, 47515, 47554, 47609, 47719, 47723, 47778, 47797, 47806, 47813, 47855, 47882, 47923, 47939, 47979, 48075, 48168, 48189, 48293, 48301,\n",
      "\n",
      "Cluster 1: test unit unit test code tdd new case process method differ good user way specif softwar function real s result depend api project exampl question person class number bug certain busi input time applic framework design team plan multipl edit net c engin web develop requir run short thing file base approach ll simpl actual static programm integr rubi chang thank version object major java decent rail type interview code base long document doe server logic ui data complet possibl visual intern world good way larg real world error use learn fix architectur tabl cost point old main environ situat experi scenario manag review problem languag tool complex public feel field valu databas qualiti proper practic addit job updat current purpos vs control final privat comment stuff bad inform effect reason day product desktop form generat css small obvious nt sourc code high page clear particular basic compani custom aspnet normal standard state stori app dev scrum build softwar engin agil read program html return similar pattern window option issu javascript version control site various profession model sourc lot releas previous technic interfac initi domain microsoft relat concept sql pleas structur long time idea ca nt big ca easi need web app googl project manag xml gui email peopl key line level string mvc analysi code review task compil bit end search right extra common m client refer post implement andor layer skill year recent benefit methodolog hard ide great wo nt wo secur valid ms servic librari design pattern featur extern industri python background work perform book softwar develop web applic lead resourc view place solut origin separ oper commerci set x choic senior communiti communic regular activ repositori access scienc sourc project wrong sourc control web develop answer variabl area android understand text altern algorithm ps technolog support browser style store stack websit term platform pretti knowledg mysql messag member machin entir look local list linux licens java c potenti internet int free import futur game general huge good idea group duplic network nt need nt use comput comput scienc posit content gpl core cs php phone os data structur opensourc decis open sourc project open sourc open oop oo develop team onlin discuss abstract\n",
      "\n",
      "Cluster 1 Posts: 38, 192, 206, 678, 750, 1849, 1969, 2776, 2959, 3824, 4399, 5757, 5898, 5951, 6660, 7823, 8228, 8257, 8966, 9354, 9810, 10832, 10849, 11485, 11951, 11975, 12073, 12292, 13381, 13956, 15623, 15925, 16732, 18288, 18895, 19631, 19856, 20225, 20233, 20932, 21133, 21230, 21291, 21463, 22516, 23178, 26931, 27301, 27328, 27513, 27600, 29137, 31710, 31736, 32571, 32786, 33243, 33319, 33382, 33498, 33618, 33652, 33768, 33909, 33991, 34354, 34440, 34463, 36175, 36961, 37149, 38185, 39411, 39922, 40986, 41254, 41397, 41409, 41773, 41941, 42941, 43086, 43261, 43402, 44145, 45369, 45927, 46364, 46391, 46451, 46913, 47331, 47416, 48018, 48237,\n",
      "\n",
      "Cluster 2: nt ca ca nt good project time s code thing work develop design wo nt wo new doe languag use web team read object differ java edit programm softwar reason need c current problem class experi basic practic long peopl thank php applic program sourc multipl error function small way particular exampl bad person nt use user manag level member larg busi long time pleas right year version model real job app inform technic book server idea comput licens ide compani machin task file fix complex process implement support nt need altern list updat look api data web applic requir standard visual learn case technolog obvious hard approach rubi various client good idea common high line site old document compil big situat great internet place issu understand huge return group bug main free type input databas normal end similar ui point html general cs refer method qualiti wrong activ m cost feel recent actual oper stack skill solut depend control pattern short possibl css test algorithm python lead extern custom relat interfac day gui aspnet stuff chang privat specif question domain intern public style world oop net resourc number set googl duplic ms design pattern engin variabl entir state valid simpl scenario form post sourc control extra local window complet certain abstract base interview framework javascript dev lot web develop servic secur softwar develop page potenti regular game tool sourc code area communic posit build benefit bit decent string project manag opensourc term sql pretti repositori choic librari logic answer analysi profession concept generat purpos structur microsoft onlin origin comment vs ps result agil linux rail scienc knowledg int commerci network mvc ll softwar engin websit code base access view static addit browser product good way gpl messag open senior scrum develop team unit test effect real world andor unit web app oo core integr xml version control plan methodolog valu major platform review background os data structur featur tabl phone comput scienc futur stori industri desktop email java c releas architectur layer proper key easi mysql clear open sourc tdd perform option field previous discuss search run initi decis separ import text final store environ sourc project android open sourc project x communiti content code review\n",
      "\n",
      "Cluster 2 Posts: 368, 745, 811, 1386, 1701, 1877, 2185, 2497, 3139, 3622, 4654, 5427, 5466, 5613, 6014, 6595, 6723, 6832, 6929, 7364, 7804, 7834, 7861, 8090, 8415, 8416, 9095, 9200, 9432, 9889, 9991, 10021, 10334, 10791, 10807, 11007, 11856, 12528, 12672, 13470, 14183, 14610, 14931, 14975, 15158, 15208, 15405, 15570, 15712, 16165, 16544, 16595, 16634, 16687, 17005, 17173, 17254, 17519, 17525, 17568, 18131, 18147, 18166, 18180, 18666, 19320, 19845, 19934, 19974, 20427, 20918, 21412, 21496, 21926, 22234, 22305, 22352, 22395, 22583, 23142, 23146, 23240, 23327, 23542, 23810, 24170, 24190, 24605, 24681, 24722, 25234, 25305, 25369, 25670, 26137, 26167, 26761, 27091, 27323, 27983, 28331, 28603, 28979, 29058, 29149, 29396, 29513, 29635, 29665, 29788, 30223, 32501, 32533, 32781, 32877, 32881, 33478, 33578, 33869, 34178, 34334, 34438, 34630, 34734, 34737, 34785, 34861, 35038, 35208, 35293, 35375, 35582, 35798, 36139, 36350, 36810, 37013, 37216, 37263, 37548, 37550, 37789, 37863, 37961, 37987, 38217, 38647, 38742, 38894, 39047, 39499, 39680, 39700, 40031, 40202, 40373, 40676, 41232, 41855, 41945, 42260, 42818, 42938, 42986, 42989, 43321, 43347, 43443, 43840, 43901, 44160, 44610, 44780, 45044, 45046, 45168, 45425, 45597, 45660, 45711, 45723, 45783, 46064, 46252, 46471, 46634, 46956, 46999, 47076, 47154, 47695, 47933, 47991,\n",
      "\n",
      "Cluster 3: web applic app web applic server user develop web app design framework site javascript good desktop php new web develop data servic html project s aspnet browser engin thank mvc client python larg window java sql differ page file certain googl use work ui nt css microsoft form net exampl experi job real languag version doe websit case thing right busi text databas rubi general access softwar code free c small onlin idea mysql architectur main person technolog time number problem sourc programm question interfac approach complex edit way look current task specif requir internet world issu search common store inform perform process control technic need peopl dev major tool logic similar simpl end profession decis email content proper manag librari standard big android visual run featur platform recent initi stuff old book communic layer various plan particular separ analysi long basic practic solut result ide reason updat base rail game gui team multipl program type addit licens support bad linux api learn valid compani secur product purpos domain choic nt use releas understand lot skill open communiti pleas possibl cost key stack set core tabl view test normal option interview activ huge relat industri environ local extra string read repositori point import list field model futur background generat ca softwar engin error regular network line previous vs bug public privat comment obvious easi level scenario comput function extern wo nt good idea wo situat lead document long time entir open sourc machin custom knowledg decent object resourc pretti oo real world answer posit build actual hard commerci ca nt chang year clear complet concept algorithm develop team os design pattern messag final altern pattern bit sourc code term potenti sourc control input structur project manag return fix m xml method benefit nt need good way oop ps intern discuss tdd high day andor java c great feel abstract gpl opensourc version control phone origin methodolog member stori group integr static class ll short x softwar develop wrong effect open sourc project ms sourc project valu unit unit test agil style variabl state area data structur senior scrum cs depend duplic comput scienc compil implement int code review code base place post qualiti refer review scienc oper\n",
      "\n",
      "Cluster 3 Posts: 370, 558, 1674, 2806, 3033, 4442, 4475, 4507, 4714, 5356, 5490, 5494, 5531, 5564, 6031, 7547, 8734, 9081, 9584, 9741, 10373, 11436, 11624, 11637, 11915, 12189, 12318, 12929, 12958, 12996, 13045, 13143, 13371, 13691, 14673, 15050, 15247, 15449, 15842, 15897, 15926, 16647, 16779, 16798, 16945, 17582, 17675, 17790, 17929, 17947, 18055, 18096, 18181, 18579, 18720, 19007, 19028, 19174, 19419, 19893, 20002, 20240, 20246, 20275, 20371, 20624, 20652, 20663, 20684, 21339, 21696, 21911, 22019, 22525, 22526, 22542, 23021, 23386, 23535, 23891, 24157, 24414, 24485, 24664, 25033, 25163, 25219, 25596, 25637, 25779, 26185, 26560, 26771, 26777, 26829, 27299, 27335, 27356, 27422, 28042, 28098, 28346, 28377, 28697, 29109, 29132, 29359, 29424, 29819, 30031, 30348, 30764, 32593, 32948, 33195, 33517, 33606, 33634, 33647, 33713, 33789, 34154, 34356, 34469, 34535, 35272, 35513, 35715, 35890, 35938, 36034, 36056, 36065, 36207, 36228, 36342, 36396, 36428, 36593, 37155, 37191, 37231, 37271, 37565, 37775, 37812, 37975, 38059, 38441, 38483, 38492, 38566, 38661, 38691, 38971, 39079, 39360, 39490, 40260, 40316, 40564, 41174, 41293, 41545, 41751, 42620, 42639, 42652, 42817, 42936, 43328, 43439, 43886, 44008, 44657, 44662, 44792, 44929, 45419, 45574, 45671, 45681, 45710, 45733, 45864, 46045, 46379, 46425, 46512, 46716, 46907, 47063, 47323, 47436, 47578, 47989, 48024,\n",
      "\n",
      "Cluster 4: develop web develop web new team s environ good thing work agil project specif process differ time job platform java version languag senior manag nt game edit question app wo nt wo experi local php compani current profession net code basic thank applic general skill product version control develop team control ide person world rubi support releas small right rail design idea python tool c potenti great site scrum programm level desktop main window bad import aspnet linux simpl client year background lead industri approach framework various futur communiti function test inform microsoft ui javascript peopl use m purpos methodolog recent program api real stuff model updat plan knowledg busi softwar comput member servic visual os big android x style doe learn machin bug user dev requir larg read intern standard data long logic type extra regular librari duplic problem clear similar actual posit understand googl origin server choic task custom class option key decent book onlin addit build communic document free huge set line stack technic activ featur pattern phone pretti vs concept fix perform softwar develop valu term issu number hard content object html implement end good idea architectur high multipl mvc pleas xml case engin extern oop proper abstract real world websit reason obvious easi access particular cost method place practic way need group technolog open relat chang complet benefit core common point layer oper ms messag separ opensourc design pattern major network integr error page short stori ll tdd scenario exampl cs depend commerci complex run area bit gui long time java c look altern situat sourc normal licens interview scienc day file store css discuss unit secur web applic decis resourc privat interfac variabl email sourc control result gpl post text open sourc ca nt ca qualiti comput scienc int browser search analysi solut certain previous unit test entir ps code base sql possibl mysql list input domain field base refer nt need project manag feel return form view generat answer public structur repositori internet final comment valid wrong web app old databas andor open sourc project effect algorithm code review lot initi sourc code tabl data structur review string nt use static state oo compil softwar engin sourc project good way\n",
      "\n",
      "Cluster 4 Posts: 94, 220, 348, 775, 866, 1025, 1533, 2042, 3277, 3482, 3558, 4522, 4596, 4647, 5405, 5540, 5749, 6530, 6677, 7347, 7565, 7566, 7826, 7859, 7951, 7966, 8055, 8104, 8145, 8157, 8297, 8364, 8758, 9122, 9161, 9885, 10230, 10270, 10296, 10462, 10580, 10655, 10656, 10736, 10804, 11188, 11802, 12070, 13190, 13259, 13746, 13927, 13945, 14069, 14152, 14206, 14441, 14720, 15096, 15681, 15742, 15781, 15813, 15829, 16105, 16701, 17606, 17650, 17788, 17830, 18137, 18303, 18371, 18392, 18843, 18953, 19273, 19292, 19326, 19397, 19451, 19851, 19896, 19966, 19987, 20023, 20178, 20255, 20342, 20369, 20385, 20607, 20940, 21084, 21118, 21845, 22219, 22314, 23270, 23838, 23845, 24107, 24221, 24538, 24737, 24828, 25093, 25458, 25564, 25600, 25636, 25782, 26179, 26191, 26368, 26497, 26517, 26673, 26942, 27147, 27337, 27454, 27472, 27632, 28174, 28351, 28825, 29334, 29720, 29738, 29785, 30345, 30956, 31035, 32624, 32654, 33398, 33468, 33474, 33526, 33560, 33946, 33955, 34006, 34122, 34208, 34445, 34874, 34890, 34993, 35082, 35276, 35525, 35610, 35739, 36460, 36561, 36562, 36567, 36757, 37220, 37225, 37348, 37532, 37659, 37695, 37751, 37802, 37836, 38140, 38207, 38238, 38280, 38302, 38393, 38543, 38595, 39013, 39119, 39146, 39174, 39185, 39509, 39515, 39798, 39878, 40018, 40060, 40474, 41196, 41616, 42094, 42124, 42181, 42200, 42863, 43039, 43083, 43528, 43819, 43838, 43864, 44822, 44842, 45218, 45477, 45742, 46107, 46268, 46272, 46278, 46461, 46832, 46848, 46981, 47125, 47150, 47458, 47675, 47838, 48023,\n",
      "\n",
      "Cluster 5: project sourc open sourc open licens manag sourc project open sourc project new time project manag team person librari work s differ small big opensourc softwar code file control gpl develop client commerci larg use edit version applic need product php nt tool learn sourc control way framework good programm local custom level agil main server real thank compani free doe particular specif origin problem java certain user thing solut sourc code communiti question environ various current repositori type busi initi separ practic answer technic design dev common reason technolog aspnet idea bug version control futur form public experi plan integr updat c exampl activ algorithm peopl job area point normal web rail machin potenti internet basic ca app stuff implement decis window structur test architectur list obvious similar site linux bad text data program qualiti end ca nt great multipl line right googl resourc net task discuss class state privat good way industri actual previous choic background languag servic case microsoft mysql ui base old process object group ps vs clear senior develop team function proper major intern page complex andor visual databas world benefit term huge short ide requir entir document altern comput support key final engin rubi profession lot html extern javascript approach inform real world websit wrong duplic day regular mvc import method build simpl css core secur communic valid number review analysi skill wo nt interfac wo unit layer cost good idea m fix complet knowledg purpos gui data structur bit valu long time option onlin set string tdd android year feel general run lead decent code base logic api compil long place error scrum generat view standard model read chang oop high understand effect posit messag scienc softwar develop style possibl content featur scenario email store releas stack platform static game field extra pleas search web applic nt need desktop recent softwar engin comput scienc abstract book easi ll xml unit test situat access hard x result member nt use concept stori refer look domain pattern code review depend addit sql methodolog pretti comment os web develop int web app oper variabl post interview tabl python issu browser java c input oo cs relat design pattern network perform return ms phone\n",
      "\n",
      "Cluster 5 Posts: 49, 215, 294, 492, 843, 966, 991, 1371, 3199, 3241, 3853, 3967, 5015, 5225, 5513, 6268, 6625, 6633, 6815, 7588, 7720, 8034, 8098, 8454, 8805, 8917, 9236, 10387, 10416, 10614, 10723, 10731, 10857, 11257, 11275, 11334, 11342, 11813, 11874, 12170, 12394, 12626, 12808, 12815, 12971, 13006, 13391, 13396, 13779, 13796, 13870, 13940, 14033, 14162, 14401, 14435, 14582, 14831, 14968, 15128, 15138, 15251, 15321, 15566, 15943, 16059, 16284, 16365, 16689, 16735, 16869, 17177, 17887, 18074, 18202, 18304, 18349, 18421, 18439, 18444, 19317, 19427, 19437, 19513, 19649, 19783, 20084, 20239, 20344, 20552, 20721, 21304, 21336, 21403, 21730, 22255, 22597, 22749, 22809, 22933, 23604, 24005, 24302, 24886, 25425, 26271, 26375, 26530, 26848, 27260, 27264, 27362, 27379, 27903, 27909, 27943, 28035, 28257, 28780, 28878, 29121, 29367, 29496, 29507, 29680, 29707, 30116, 30329, 30856, 31036, 31603, 32444, 32482, 32763, 33228, 33758, 33840, 33868, 34085, 34086, 34173, 34189, 34227, 34286, 34537, 34577, 34711, 34959, 35077, 35152, 35325, 35413, 35447, 35833, 35900, 36134, 36513, 36588, 36959, 37600, 37694, 37849, 37996, 38415, 38976, 39247, 39656, 39808, 39939, 39976, 40394, 40465, 40488, 40742, 41019, 41128, 41617, 41686, 41890, 41934, 41968, 42826, 43096, 43267, 43796, 43948, 44058, 44758, 44764, 45699, 45776, 45957, 46039, 46610, 46821, 46912, 47094, 47425, 47485, 47558, 48238,\n",
      "\n",
      "Cluster 6: c languag java java c net python function object differ new nt rubi visual good project code php applic librari program develop thank programm edit similar api file use javascript current return exampl learn doe standard s window framework specif class choic experi time web person multipl implement option oper thing pleas problem question cs list aspnet oop year point level day basic practic custom idea work way possibl comput softwar need general tool common html job main featur particular vs microsoft previous environ network compil databas reason approach bit short area ui design concept busi browser import document error bad high various knowledg solut linux small stuff gui android relat decent nt need long wo nt wo ca nt bug ca form understand real tdd interview platform complex app ide user stori set manag duplic structur style complet int engin member addit nt use phone content support core answer perform easi data simpl local sql rail futur x compani skill technolog client book logic actual hard abstract variabl valu privat oo desktop old larg lead post number type email field lot internet origin good idea softwar engin process big architectur generat test onlin pattern text search world os run technic andor activ googl dev valid refer issu methodolog page control plan updat game ms m web develop domain situat analysi opensourc task servic end input model tabl sourc obvious team line xml final interfac integr place data structur extra web applic potenti look feel code review profession releas site regular right server intern review case background unit test huge ll mysql unit decis recent comput scienc develop team scienc initi mvc result clear ps access design pattern term messag product chang method inform softwar develop free real world separ public peopl requir base version open sourc project licens layer posit key benefit version control industri pretti build open sourc open view web app project manag long time websit machin major altern algorithm agil effect wrong normal scrum entir secur resourc proper repositori extern fix css cost read qualiti purpos sourc code sourc control sourc project stack state static communiti communic store commerci comment good way code base string gpl discuss great group depend certain senior scenario\n",
      "\n",
      "Cluster 6 Posts: 16, 724, 1090, 1180, 1189, 1380, 1719, 3519, 4112, 5972, 6042, 6166, 6190, 7629, 8445, 8789, 9320, 10210, 11050, 11669, 11998, 12466, 12524, 12777, 13757, 14281, 14497, 14744, 15094, 15292, 15468, 15628, 16010, 16117, 16135, 16390, 16867, 17120, 17151, 17442, 18176, 18838, 18852, 19006, 20586, 20764, 20965, 20988, 21032, 21209, 21260, 21538, 21791, 21821, 21869, 21891, 21917, 22073, 22559, 22753, 22769, 23234, 23548, 23718, 23760, 24583, 25188, 25475, 25836, 25917, 26264, 27123, 27749, 27847, 27935, 27944, 28054, 28313, 28314, 28651, 28759, 29302, 29310, 29692, 29743, 30103, 30188, 30254, 30974, 31578, 32385, 32442, 32541, 32702, 33076, 33402, 33458, 33663, 33968, 34067, 35214, 35228, 35316, 35671, 36535, 37042, 37643, 37734, 37973, 38022, 38663, 38810, 38862, 38884, 38942, 39225, 39742, 39803, 40100, 40219, 40350, 40515, 40821, 40832, 41045, 41328, 41644, 41675, 41854, 41883, 42036, 43203, 43729, 44724, 44789, 44810, 44959, 45202, 45231, 45251, 45501, 46386, 46511, 46642, 46685, 47654, 47678, 47764, 47781, 47796, 48252, 48278, 48299,\n",
      "\n",
      "Cluster 7: code review sourc sourc code code review good s bad new code base base qualiti function class complex time doe way languag error design project peopl file comment thing practic program programm c edit method standard tool process simpl style use team product work python differ develop origin exampl larg test nt php variabl long old object line generat solut real question right server return compani read addit perform compil control applic complet recent case support java need obvious document issu various softwar oo reason point implement thank certain chang common technic ide import look previous small task free current data idea potenti model m oop googl general email databas altern stack abstract person separ major int huge lead level licens user javascript intern window net wrong messag duplic good idea multipl busi pattern tdd book activ xml term version particular client high mvc servic text analysi effect normal big machin gpl end open problem visual updat site experi repositori sql html plan actual design pattern form good way specif run bug type manag stuff featur framework internet sourc control vs public valid pleas web member logic discuss situat secur initi learn gui benefit custom approach interfac access number similar bit long time place profession app build api answer background static ps lot extra cost main oper platform x string area basic fix engin game knowledg futur commerci version control result ms open sourc short interview dev easi page depend comput scienc softwar develop proper regular scienc option layer key communic privat opensourc stori refer scrum state andor decis algorithm comput senior rubi possibl job unit ca nt ca technolog core releas content set great wo nt wo requir list choic open sourc project websit sourc project os entir ui microsoft cs scenario decent softwar engin nt use understand posit network methodolog unit test librari mysql input local desktop world extern final agil valu inform aspnet android architectur web applic browser web develop project manag web app clear skill java c linux ll search nt need onlin resourc phone relat post pretti real world rail purpos integr industri hard develop team view communiti concept css data structur day domain group tabl environ structur feel field store year\n",
      "\n",
      "Cluster 7 Posts: 408, 729, 1059, 1106, 1224, 1323, 1483, 2682, 2700, 2777, 3713, 4028, 4107, 4614, 4879, 5034, 5473, 5748, 6395, 6476, 6834, 7455, 7482, 7618, 7912, 8355, 8565, 9007, 9268, 9272, 9290, 9346, 9554, 9761, 9936, 10569, 11157, 11726, 11846, 12683, 12915, 13010, 13121, 13265, 13570, 13614, 13782, 14089, 14297, 14524, 14956, 15261, 15502, 15636, 15804, 15874, 15984, 16040, 16769, 16908, 17100, 17341, 17443, 17474, 17738, 17766, 18029, 18406, 18427, 18495, 18512, 18564, 19071, 19344, 19457, 19807, 20080, 20406, 20542, 21400, 21631, 21735, 21771, 22106, 22183, 22568, 22819, 23472, 23683, 23792, 23851, 24077, 24212, 24558, 24578, 24793, 25023, 25123, 25276, 26058, 26747, 27263, 27416, 27509, 27682, 27686, 28434, 28582, 28877, 29170, 29212, 29313, 29433, 29483, 29488, 29540, 29657, 30297, 30336, 30895, 32754, 32951, 33068, 33235, 34095, 34418, 34547, 34970, 35063, 35491, 35620, 35639, 35937, 35946, 36262, 36367, 36430, 36496, 36978, 37091, 37260, 37398, 37476, 37572, 37909, 38087, 38874, 38905, 39122, 39200, 39287, 39855, 40216, 40248, 40255, 40439, 40643, 40895, 41798, 41947, 41949, 42077, 42079, 42091, 42163, 42729, 42924, 43067, 43151, 43186, 43188, 43211, 43339, 44936, 44946, 45033, 45150, 45259, 45378, 45405, 45510, 45606, 45627, 45856, 46178, 46236, 46583, 46637, 46707, 46844, 46867, 47305, 47402, 47476, 47615, 47789, 47860, 48188, 48248, 48272,\n",
      "\n",
      "Cluster 8: softwar softwar develop engin develop softwar engin product compani comput differ project new job manag good book code time requir s question peopl technic profession sourc scienc comput scienc industri nt small person applic thank qualiti larg specif programm support program busi knowledg thing user posit senior various experi major level general design architectur bug particular document updat methodolog skill high big inform end structur technolog team work process environ window languag agil day method c problem doe java interview microsoft use implement effect exampl addit version model domain free project manag databas standard scrum server feel fix need common web releas great purpos stuff site hard public edit client data control googl test servic cs real world bit featur similar tool right practic phone cost sourc code way approach regular commerci multipl algorithm open oo messag futur result communiti opensourc reason data structur stack key number activ discuss network field lot term simpl basic idea pleas object current origin communic look m ms depend recent long file post relat perform final actual dev onlin certain complex os main situat case develop team base group integr decis plan import intern pattern layer line real world refer web develop type resourc gui bad page open sourc point api chang obvious linux issu previous set entir class ui old mysql analysi licens possibl tabl solut php aspnet version control email tdd task internet visual rubi error custom ide input sql initi mvc proper static gpl read desktop concept compil place decent platform core area python choic duplic view secur interfac logic year normal function string separ ca nt ca x background access web app build learn member lead complet design pattern extern short javascript nt use search web applic huge style option app game machin rail html code review review understand extra valu websit ps librari altern state store browser wo stori variabl andor wrong sourc project benefit text android answer unit unit test wo nt vs valid comment sourc control net form framework easi generat good idea good way int java c list ll local long time xml css scenario nt need oop content open sourc project oper potenti pretti privat repositori return code base run clear abstract\n",
      "\n",
      "Cluster 8 Posts: 4, 135, 163, 778, 779, 827, 1007, 2226, 2756, 3317, 4951, 5560, 6005, 6246, 6417, 7927, 8111, 8301, 8956, 9371, 9481, 9576, 9873, 10206, 10757, 11667, 11721, 12435, 12556, 12589, 12949, 13341, 13439, 13616, 13778, 13786, 13793, 13958, 14295, 14525, 14942, 15239, 15317, 15930, 15949, 16016, 16296, 16608, 16708, 16755, 16936, 17136, 17444, 17710, 18011, 18141, 18316, 18379, 18391, 18551, 18649, 19158, 19267, 19549, 19573, 19720, 20092, 20628, 20790, 21526, 21601, 21676, 21831, 21907, 21943, 22146, 22349, 22416, 22504, 23453, 23652, 23848, 24047, 24361, 24873, 25139, 25432, 26080, 27083, 28078, 28154, 29191, 29870, 29912, 30154, 30742, 30853, 31532, 31567, 32421, 33020, 33911, 34504, 34507, 34843, 35151, 35819, 36202, 36226, 36559, 37733, 38188, 38225, 38265, 38924, 39062, 39284, 39353, 39541, 39613, 39821, 40183, 40536, 40590, 40593, 40928, 41050, 41084, 41458, 41512, 41595, 41678, 41960, 42332, 43409, 43725, 43752, 43801, 43867, 44042, 44076, 44649, 45181, 45492, 46366, 46965, 47028, 47116, 47528, 47535, 47911, 47963, 48100,\n",
      "\n",
      "Cluster 9: way pleas effect good way s good php post programm peopl differ websit code java question certain thing develop doe simpl page feel specif desktop learn possibl new tool small applic document edit bug interview solut inform framework standard tdd level idea bit net project input control issu list basic version requir purpos int import class manag sql set python nt rubi methodolog qualiti general old user mysql problem file technic use m data review error web linux extern time product window languag method featur andor exampl ca complex agil knowledg bad server person machin common task comment fix line communic read os design big c term oo program googl intern particular function base api model sourc control app layer pattern wrong visual process right long case sourc ms proper xml various background x group addit actual need easi comput css senior tabl end oper thank algorithm team main current recent approach busi altern client structur stuff web app local engin softwar work regular cost design pattern onlin test browser reason project manag answer pretti relat communiti larg run servic technolog microsoft discuss platform internet build text aspnet gui similar hard generat rail result key ui experi ca nt scrum version control great core extra environ profession librari job content valu place type look understand separ practic high number compani potenti huge short refer book real implement previous variabl chang phone option point store develop team decent plan dev good idea updat origin logic access entir scenario final html web develop wo nt wo nt use code base string custom architectur choic commerci clear concept benefit comput scienc decis area complet databas day android analysi data structur compil activ depend code review cs year domain resourc situat site secur search scienc return repositori softwar develop releas real world public ps privat posit skill softwar engin duplic unit world web applic vs view valid unit test support sourc code style stori static state stack sourc project perform opensourc open sourc project ide javascript java c interfac integr initi industri gpl open sourc game futur free form field email lead licens ll long time lot major member messag multipl mvc network normal nt need object obvious oop open abstract\n",
      "\n",
      "Cluster 9 Posts: 57, 73, 104, 134, 177, 188, 937, 1200, 1516, 1745, 1785, 2192, 2329, 2331, 2654, 2699, 2715, 3450, 3956, 4267, 5415, 6442, 6510, 6591, 7181, 7217, 7305, 7581, 8721, 8886, 9043, 9213, 9795, 9849, 9881, 10208, 10340, 11775, 12182, 12186, 12439, 13711, 13961, 14176, 14293, 14315, 14411, 15002, 15610, 15670, 16137, 16159, 16326, 16638, 17183, 18127, 19359, 20128, 20363, 20664, 21128, 22070, 22411, 22598, 22854, 23064, 23075, 23351, 24555, 25154, 26151, 27022, 27129, 27134, 27787, 27927, 28110, 28129, 28927, 29514, 31527, 31551, 31621, 33378, 34439, 35087, 35925, 36052, 36080, 36731, 37457, 38891, 39829, 39865, 40230, 40297, 40483, 40649, 42337, 42983, 44177, 44658, 44948, 45586, 45594, 45891, 46001, 46084, 46193, 46571, 46592, 46849, 47007, 47604,\n",
      "\n"
     ]
    }
   ],
   "source": [
    "clusterdict=dict()\n",
    "from __future__ import print_function\n",
    "order_centroids = km.cluster_centers_.argsort()[:, ::-1]\n",
    "#terms = vectorizer.get_feature_names()\n",
    "for i in range(num_clusters):\n",
    "    print(\"Cluster %d:\" % i, end='')\n",
    "    for ind in order_centroids[i]:\n",
    "        print(' %s' % terms[ind], end='')\n",
    "    print()\n",
    "    print()\n",
    "    \n",
    "    print(\"Cluster %d Posts:\" % i, end='')\n",
    "    if type(frame.ix[i]['post']) != str:\n",
    "        for post in frame.ix[i]['post'].values.tolist():\n",
    "            print(' %s,' % post, end='')\n",
    "            if i in clusterdict:\n",
    "                clusterdict[i].append(post)\n",
    "            else:\n",
    "                clusterdict[i]=list(post)\n",
    "            \n",
    "    else:\n",
    "        print(frame.ix[i]['post'])\n",
    "    print() #add whitespace\n",
    "    print() #add whitespace"
   ]
  },
  {
   "cell_type": "code",
   "execution_count": 98,
   "metadata": {
    "collapsed": false,
    "scrolled": true
   },
   "outputs": [
    {
     "name": "stdout",
     "output_type": "stream",
     "text": [
      "[0, 0, 0, 2, 2, 0, 2, 0, 6, 6, 0, 7, 9, 0, 2, 2, 0, 8, 4, 1, 0, 9, 0, 7, 3, 0, 0, 0, 2, 4, 0, 7, 9, 8, 8, 5, 7, 0, 7, 0, 0, 8, 0, 6, 4, 4, 0, 0, 0, 0, 6, 0, 0, 5, 1, 0, 0, 8, 4, 6, 0, 0, 5, 0, 7, 7, 8, 4, 0, 3, 9, 0, 0, 0, 0, 0, 3, 7, 0, 1, 0, 0, 0, 9, 2, 0, 0, 8, 4, 0, 0, 1, 8, 5, 0, 0, 3, 2, 0, 7, 5, 1, 4, 0, 0, 0, 7, 0, 6, 0, 0, 0, 2, 0, 0, 0, 7, 0, 6, 5, 5, 0, 0, 3, 8, 5, 0, 0, 7, 9, 0, 4, 5, 0, 0, 0, 0, 6, 0, 0, 6, 0, 4, 0, 3, 0, 0, 9, 6, 2, 6, 3, 8, 0, 5, 0, 3, 7, 0, 7, 0, 0, 6, 0, 0, 0, 0, 7, 7, 0, 5, 0, 2, 0, 0, 0, 0, 7, 4, 5, 7, 8, 5, 2, 0, 2, 2, 5, 0, 0, 0, 7, 0, 8, 4, 4, 4, 0, 3, 7, 9, 5, 0, 0, 9, 3, 2, 4, 0, 8, 0, 7, 0, 0, 6, 0, 8, 2, 5, 5, 3, 0, 0, 6, 7, 4, 5, 0, 0, 0, 6, 0, 2, 7, 8, 7, 8, 2, 0, 3, 0, 5, 5, 9, 3, 5, 7, 0, 5, 3, 0, 3, 0, 0, 0, 8, 5, 0, 7, 0, 7, 6, 9, 9, 0, 6, 4, 0, 8, 5, 5, 5, 5, 0, 0, 1, 9, 6, 5, 0, 0, 0, 5, 0, 5, 0, 4, 5, 0, 0, 4, 0, 0, 0, 3, 0, 6, 2, 0, 6, 5, 0, 9, 5, 8, 6, 4, 0, 0, 9, 6, 0, 0, 0, 0, 5, 8, 0, 0, 3, 0, 0, 5, 0, 2, 9, 4, 9, 0, 6, 3, 8, 0, 0, 4, 0, 9, 0, 0, 0, 0, 6, 2, 0, 6, 0, 0, 0, 0, 0, 7, 0, 0, 0, 0, 0, 6, 0, 0, 2, 0, 4, 2, 7, 0, 0, 7, 5, 0, 0, 7, 6, 0, 2, 0, 7, 6, 0, 0, 3, 3, 4, 8, 0, 4, 4, 0, 0, 0, 8, 7, 5, 2, 4, 8, 2, 0, 0, 0, 9, 3, 6, 2, 3, 3, 2, 0, 7, 7, 2, 1, 2, 0, 0, 5, 0, 2, 0, 4, 3, 2, 0, 4, 0, 0, 0, 3, 0, 0, 2, 5, 0, 0, 7, 0, 6, 0, 7, 0, 5, 4, 0, 5, 0, 0, 0, 0, 0, 8, 0, 0, 2, 0, 4, 0, 7, 8, 0, 1, 0, 0, 0, 0, 0, 7, 5, 0, 0, 0, 6, 0, 0, 4, 0, 0, 0, 2, 0, 8, 6, 6, 0, 0, 2, 7, 3, 6, 1, 4, 4, 3, 3, 0, 0, 3, 3, 4, 3, 0, 0, 3, 0, 0, 0, 7, 0, 0, 2, 0, 0, 0, 0, 0, 0, 5, 2, 2, 0, 4, 0, 6, 2, 6, 0, 5, 2, 2, 2, 0, 0, 1, 0, 0, 8, 8, 6, 5, 2, 0, 7, 0, 4, 0, 0, 0, 8, 3, 4, 0, 2, 5, 0, 2, 0, 7, 0, 0, 3, 0, 5, 0, 4, 0, 3, 0, 6, 2, 3, 4, 1, 0, 0, 0, 0, 4, 0, 8, 8, 0, 3, 0, 4, 0, 5, 1, 4, 7, 3, 0, 2, 4, 5, 2, 0, 0, 2, 5, 3, 2, 4, 4, 0, 8, 2, 0, 2, 4, 0, 0, 0, 0, 3, 0, 8, 6, 8, 7, 0, 7, 0, 0, 2, 6, 0, 0, 0, 4, 7, 0, 0, 5, 0, 0, 3, 0, 8, 3, 2, 8, 6, 0, 8, 7, 0, 7, 7, 7, 0, 8, 4, 2, 3, 0, 0, 0, 4, 0, 3, 5, 8, 4, 0, 8, 7, 0, 2, 7, 0, 0, 9, 0, 3, 0, 3, 0, 8, 0, 3, 2, 0, 8, 0, 4, 7, 3, 0, 0, 2, 0, 7, 4, 0, 0, 7, 7, 0, 0, 1, 0, 8, 0, 0, 0, 0, 0, 4, 4, 7, 0, 9, 0, 0, 0, 5, 0, 5, 4, 0, 0, 8, 6, 6, 4, 0, 7, 6, 0, 0, 0, 0, 0, 4, 0, 0, 0, 0, 0, 0, 0, 0, 0, 0, 0, 0, 8, 5, 9, 0, 0, 5, 0, 0, 2, 0, 3, 7, 0, 9, 0, 0, 5, 0, 7, 0, 0, 0, 3, 2, 0, 0, 0, 6, 0, 7, 2, 2, 0, 0, 0, 0, 9, 9, 0, 0, 0, 5, 0, 3, 8, 0, 6, 8, 3, 9, 0, 4, 5, 2, 4, 0, 0, 0, 0, 7, 0, 0, 2, 0, 0, 0, 0, 0, 0, 5, 9, 8, 3, 0, 4, 9, 0, 0, 2, 3, 6, 0, 0, 5, 0, 0, 0, 0, 0, 4, 4, 5, 5, 0, 0, 6, 0, 5, 0, 3, 3, 2, 0, 0, 9, 1, 0, 0, 3, 4, 1, 6, 0, 3, 0, 0, 0, 3, 7, 0, 5, 0, 0, 8, 8, 2, 0, 6, 0, 0, 6, 0, 9, 0, 2, 7, 3, 0, 0, 9, 6, 7, 6, 4, 8, 0, 6, 7, 0, 0, 4, 4, 5, 5, 3, 0, 0, 4, 0, 8, 0, 0, 0, 7, 2, 3, 0, 0, 0, 6, 7, 0, 5, 0, 1, 5, 0, 0, 7, 9, 6, 3, 8, 7, 0, 3, 0, 0, 6, 3, 8, 2, 5, 0, 4, 0, 2, 0, 0, 3, 0, 0, 0, 0, 3, 6, 0, 0, 0, 7, 1, 0, 5, 7, 0, 0, 9, 0, 8, 0, 7, 4, 2, 5, 9, 4, 0, 0, 3, 7, 2, 0, 6, 0, 0, 0, 4, 7, 2, 0, 7, 0, 5, 5, 0, 0, 5, 7, 0, 0, 4, 0, 6, 3, 1, 9, 6, 0, 0, 6, 0, 3, 4, 4, 9, 1, 0, 0, 0, 5, 3, 6, 7, 0, 8, 0, 8, 0, 0, 2, 0, 5, 0, 4, 0, 0, 0, 4, 0, 0, 9, 5, 9, 6, 4, 0, 0, 7, 1, 7, 4, 8, 9, 0, 0, 0, 7, 0, 0, 0, 8, 5, 7, 3, 0, 5, 3, 3, 0, 0, 3, 0, 3, 0, 0, 0, 0, 0, 8, 0, 0, 0, 3, 0, 0, 0, 7, 3, 3, 2, 4, 4, 5, 8, 0, 0, 0, 0, 0, 4, 4, 6, 1, 0, 0, 0, 0, 5, 0, 7, 0, 0, 0, 0, 8, 8, 0, 0, 0, 3, 1, 0, 1, 7, 1, 0, 4, 0, 0, 1, 0, 5, 4, 0, 2, 0, 7, 0, 9, 3, 3, 3, 4, 1, 0, 8, 6, 0, 4, 0, 5, 0, 3, 5, 8, 0, 5, 1, 5, 8, 1, 0, 0, 0, 2, 0, 0, 8, 7, 5, 0, 4, 0, 5, 5, 0, 0, 4, 0, 0, 1, 4, 0, 1, 5, 0, 0, 4, 0, 0, 0, 4, 7, 0, 7, 4, 0, 9, 3, 3, 2, 7, 2, 0, 0, 9, 3, 0, 4, 4, 5, 0, 1, 0, 0, 0, 0, 0, 0, 0, 0, 0, 8, 2, 0, 4, 0, 7, 6, 2, 8, 5, 7, 0, 0, 0, 0, 0, 7, 0, 9, 8, 0, 0, 0, 0, 0, 0, 7, 5, 6, 0, 0, 0, 2, 0, 6, 0, 2, 0, 1, 0, 3, 0, 8, 0, 0, 7, 7, 6, 0, 3, 0, 8, 0, 2, 0, 0, 3, 0, 5, 5, 6, 0, 0, 9, 3, 1, 0, 6, 2, 0, 5, 2, 0, 0, 4, 4, 3, 0, 7, 0, 0, 6, 4, 0]\n"
     ]
    }
   ],
   "source": [
    "predictedop=km.predict(test_matrix).tolist()\n",
    "print(predictedop)"
   ]
  },
  {
   "cell_type": "code",
   "execution_count": 99,
   "metadata": {
    "collapsed": false
   },
   "outputs": [],
   "source": [
    "X = tfidf_matrix.todense()"
   ]
  },
  {
   "cell_type": "code",
   "execution_count": 100,
   "metadata": {
    "collapsed": false
   },
   "outputs": [],
   "source": [
    "from sklearn.decomposition import PCA\n",
    "reduced_data = PCA(n_components=2).fit_transform(X)\n"
   ]
  },
  {
   "cell_type": "code",
   "execution_count": 101,
   "metadata": {
    "collapsed": false
   },
   "outputs": [
    {
     "name": "stdout",
     "output_type": "stream",
     "text": [
      "(4000, 2)\n"
     ]
    }
   ],
   "source": [
    "print(reduced_data.shape)"
   ]
  },
  {
   "cell_type": "code",
   "execution_count": 102,
   "metadata": {
    "collapsed": true
   },
   "outputs": [],
   "source": [
    "labels = km.fit_predict(tfidf_matrix)"
   ]
  },
  {
   "cell_type": "code",
   "execution_count": 125,
   "metadata": {
    "collapsed": false
   },
   "outputs": [],
   "source": [
    "labels_color_map = {\n",
    "    0: '#20b2aa', 1: '#ff7373', 2: '#ffe4e1', 3: '#005073', 4: '#4d0404',\n",
    "    5: '#ccc0ba', 6: '#4700f9', 7: '#f6f900', 8: '#00f91d', 9: '#da8c49'}\n",
    "\n",
    "labels_name_map = {\n",
    "    0: 'cluster 0', 1: 'cluster 1', 2: 'cluster 2', 3: 'cluster 3', 4: 'cluster 4',\n",
    "    5: 'cluster 5', 6: 'cluster 6', 7: 'cluster 7', 8: 'cluster 8', 9: 'cluster 9'}\n",
    "marker_map={\n",
    "    0: 'x', 1: 'o', 2: 'o', 3: 'o', 4: 'o',\n",
    "    5: 'o', 6:'o', 7: 'o', 8: 'o', 9: 'o'}\n",
    "import matplotlib.pyplot as plt"
   ]
  },
  {
   "cell_type": "code",
   "execution_count": 126,
   "metadata": {
    "collapsed": false
   },
   "outputs": [
    {
     "ename": "KeyboardInterrupt",
     "evalue": "",
     "output_type": "error",
     "traceback": [
      "\u001b[0;31m---------------------------------------------------------------------------\u001b[0m",
      "\u001b[0;31mKeyboardInterrupt\u001b[0m                         Traceback (most recent call last)",
      "\u001b[0;32m<ipython-input-126-8167f8c5838c>\u001b[0m in \u001b[0;36m<module>\u001b[0;34m()\u001b[0m\n\u001b[1;32m      9\u001b[0m     \u001b[0mm\u001b[0m \u001b[1;33m=\u001b[0m \u001b[0mmarker_map\u001b[0m\u001b[1;33m[\u001b[0m\u001b[0mlabels\u001b[0m\u001b[1;33m[\u001b[0m\u001b[0mindex\u001b[0m\u001b[1;33m]\u001b[0m\u001b[1;33m]\u001b[0m\u001b[1;33m\u001b[0m\u001b[0m\n\u001b[1;32m     10\u001b[0m     \u001b[0mnamelist\u001b[0m\u001b[1;33m.\u001b[0m\u001b[0mappend\u001b[0m\u001b[1;33m(\u001b[0m\u001b[0mlabels_name_map\u001b[0m\u001b[1;33m[\u001b[0m\u001b[0mlabels\u001b[0m\u001b[1;33m[\u001b[0m\u001b[0mindex\u001b[0m\u001b[1;33m]\u001b[0m\u001b[1;33m]\u001b[0m\u001b[1;33m)\u001b[0m\u001b[1;33m\u001b[0m\u001b[0m\n\u001b[0;32m---> 11\u001b[0;31m     \u001b[0mscatterlist\u001b[0m\u001b[1;33m.\u001b[0m\u001b[0mappend\u001b[0m\u001b[1;33m(\u001b[0m\u001b[0max\u001b[0m\u001b[1;33m.\u001b[0m\u001b[0mscatter\u001b[0m\u001b[1;33m(\u001b[0m\u001b[0mpca_comp_1\u001b[0m\u001b[1;33m,\u001b[0m \u001b[0mpca_comp_2\u001b[0m\u001b[1;33m,\u001b[0m \u001b[0mc\u001b[0m\u001b[1;33m=\u001b[0m\u001b[0mcolor\u001b[0m\u001b[1;33m,\u001b[0m\u001b[0mmarker\u001b[0m\u001b[1;33m=\u001b[0m\u001b[0mm\u001b[0m\u001b[1;33m)\u001b[0m\u001b[1;33m)\u001b[0m\u001b[1;33m\u001b[0m\u001b[0m\n\u001b[0m\u001b[1;32m     12\u001b[0m     ax.legend(scatterlist,\n\u001b[1;32m     13\u001b[0m            \u001b[0mnamelist\u001b[0m\u001b[1;33m,\u001b[0m\u001b[1;33m\u001b[0m\u001b[0m\n",
      "\u001b[0;32mC:\\Users\\samym\\Anaconda3\\lib\\site-packages\\matplotlib\\__init__.py\u001b[0m in \u001b[0;36minner\u001b[0;34m(ax, *args, **kwargs)\u001b[0m\n\u001b[1;32m   1889\u001b[0m                     warnings.warn(msg % (label_namer, func.__name__),\n\u001b[1;32m   1890\u001b[0m                                   RuntimeWarning, stacklevel=2)\n\u001b[0;32m-> 1891\u001b[0;31m             \u001b[1;32mreturn\u001b[0m \u001b[0mfunc\u001b[0m\u001b[1;33m(\u001b[0m\u001b[0max\u001b[0m\u001b[1;33m,\u001b[0m \u001b[1;33m*\u001b[0m\u001b[0margs\u001b[0m\u001b[1;33m,\u001b[0m \u001b[1;33m**\u001b[0m\u001b[0mkwargs\u001b[0m\u001b[1;33m)\u001b[0m\u001b[1;33m\u001b[0m\u001b[0m\n\u001b[0m\u001b[1;32m   1892\u001b[0m         \u001b[0mpre_doc\u001b[0m \u001b[1;33m=\u001b[0m \u001b[0minner\u001b[0m\u001b[1;33m.\u001b[0m\u001b[0m__doc__\u001b[0m\u001b[1;33m\u001b[0m\u001b[0m\n\u001b[1;32m   1893\u001b[0m         \u001b[1;32mif\u001b[0m \u001b[0mpre_doc\u001b[0m \u001b[1;32mis\u001b[0m \u001b[1;32mNone\u001b[0m\u001b[1;33m:\u001b[0m\u001b[1;33m\u001b[0m\u001b[0m\n",
      "\u001b[0;32mC:\\Users\\samym\\Anaconda3\\lib\\site-packages\\matplotlib\\axes\\_axes.py\u001b[0m in \u001b[0;36mscatter\u001b[0;34m(self, x, y, s, c, marker, cmap, norm, vmin, vmax, alpha, linewidths, verts, edgecolors, **kwargs)\u001b[0m\n\u001b[1;32m   4055\u001b[0m                 \u001b[0mself\u001b[0m\u001b[1;33m.\u001b[0m\u001b[0mset_ymargin\u001b[0m\u001b[1;33m(\u001b[0m\u001b[1;36m0.05\u001b[0m\u001b[1;33m)\u001b[0m\u001b[1;33m\u001b[0m\u001b[0m\n\u001b[1;32m   4056\u001b[0m \u001b[1;33m\u001b[0m\u001b[0m\n\u001b[0;32m-> 4057\u001b[0;31m         \u001b[0mself\u001b[0m\u001b[1;33m.\u001b[0m\u001b[0madd_collection\u001b[0m\u001b[1;33m(\u001b[0m\u001b[0mcollection\u001b[0m\u001b[1;33m)\u001b[0m\u001b[1;33m\u001b[0m\u001b[0m\n\u001b[0m\u001b[1;32m   4058\u001b[0m         \u001b[0mself\u001b[0m\u001b[1;33m.\u001b[0m\u001b[0mautoscale_view\u001b[0m\u001b[1;33m(\u001b[0m\u001b[1;33m)\u001b[0m\u001b[1;33m\u001b[0m\u001b[0m\n\u001b[1;32m   4059\u001b[0m \u001b[1;33m\u001b[0m\u001b[0m\n",
      "\u001b[0;32mC:\\Users\\samym\\Anaconda3\\lib\\site-packages\\matplotlib\\axes\\_base.py\u001b[0m in \u001b[0;36madd_collection\u001b[0;34m(self, collection, autolim)\u001b[0m\n\u001b[1;32m   1754\u001b[0m \u001b[1;33m\u001b[0m\u001b[0m\n\u001b[1;32m   1755\u001b[0m         \u001b[1;32mif\u001b[0m \u001b[0mautolim\u001b[0m\u001b[1;33m:\u001b[0m\u001b[1;33m\u001b[0m\u001b[0m\n\u001b[0;32m-> 1756\u001b[0;31m             \u001b[0mself\u001b[0m\u001b[1;33m.\u001b[0m\u001b[0mupdate_datalim\u001b[0m\u001b[1;33m(\u001b[0m\u001b[0mcollection\u001b[0m\u001b[1;33m.\u001b[0m\u001b[0mget_datalim\u001b[0m\u001b[1;33m(\u001b[0m\u001b[0mself\u001b[0m\u001b[1;33m.\u001b[0m\u001b[0mtransData\u001b[0m\u001b[1;33m)\u001b[0m\u001b[1;33m)\u001b[0m\u001b[1;33m\u001b[0m\u001b[0m\n\u001b[0m\u001b[1;32m   1757\u001b[0m \u001b[1;33m\u001b[0m\u001b[0m\n\u001b[1;32m   1758\u001b[0m         \u001b[0mcollection\u001b[0m\u001b[1;33m.\u001b[0m\u001b[0m_remove_method\u001b[0m \u001b[1;33m=\u001b[0m \u001b[1;32mlambda\u001b[0m \u001b[0mh\u001b[0m\u001b[1;33m:\u001b[0m \u001b[0mself\u001b[0m\u001b[1;33m.\u001b[0m\u001b[0mcollections\u001b[0m\u001b[1;33m.\u001b[0m\u001b[0mremove\u001b[0m\u001b[1;33m(\u001b[0m\u001b[0mh\u001b[0m\u001b[1;33m)\u001b[0m\u001b[1;33m\u001b[0m\u001b[0m\n",
      "\u001b[0;32mC:\\Users\\samym\\Anaconda3\\lib\\site-packages\\matplotlib\\collections.py\u001b[0m in \u001b[0;36mget_datalim\u001b[0;34m(self, transData)\u001b[0m\n\u001b[1;32m    226\u001b[0m             result = mpath.get_path_collection_extents(\n\u001b[1;32m    227\u001b[0m                 \u001b[0mtransform\u001b[0m\u001b[1;33m.\u001b[0m\u001b[0mfrozen\u001b[0m\u001b[1;33m(\u001b[0m\u001b[1;33m)\u001b[0m\u001b[1;33m,\u001b[0m \u001b[0mpaths\u001b[0m\u001b[1;33m,\u001b[0m \u001b[0mself\u001b[0m\u001b[1;33m.\u001b[0m\u001b[0mget_transforms\u001b[0m\u001b[1;33m(\u001b[0m\u001b[1;33m)\u001b[0m\u001b[1;33m,\u001b[0m\u001b[1;33m\u001b[0m\u001b[0m\n\u001b[0;32m--> 228\u001b[0;31m                 offsets, transOffset.frozen())\n\u001b[0m\u001b[1;32m    229\u001b[0m             \u001b[0mresult\u001b[0m \u001b[1;33m=\u001b[0m \u001b[0mresult\u001b[0m\u001b[1;33m.\u001b[0m\u001b[0minverse_transformed\u001b[0m\u001b[1;33m(\u001b[0m\u001b[0mtransData\u001b[0m\u001b[1;33m)\u001b[0m\u001b[1;33m\u001b[0m\u001b[0m\n\u001b[1;32m    230\u001b[0m         \u001b[1;32melse\u001b[0m\u001b[1;33m:\u001b[0m\u001b[1;33m\u001b[0m\u001b[0m\n",
      "\u001b[0;32mC:\\Users\\samym\\Anaconda3\\lib\\site-packages\\matplotlib\\transforms.py\u001b[0m in \u001b[0;36mfrozen\u001b[0;34m(self)\u001b[0m\n\u001b[1;32m   2314\u001b[0m     \u001b[1;32mdef\u001b[0m \u001b[0mfrozen\u001b[0m\u001b[1;33m(\u001b[0m\u001b[0mself\u001b[0m\u001b[1;33m)\u001b[0m\u001b[1;33m:\u001b[0m\u001b[1;33m\u001b[0m\u001b[0m\n\u001b[1;32m   2315\u001b[0m         \u001b[0mself\u001b[0m\u001b[1;33m.\u001b[0m\u001b[0m_invalid\u001b[0m \u001b[1;33m=\u001b[0m \u001b[1;36m0\u001b[0m\u001b[1;33m\u001b[0m\u001b[0m\n\u001b[0;32m-> 2316\u001b[0;31m         \u001b[0mfrozen\u001b[0m \u001b[1;33m=\u001b[0m \u001b[0mcomposite_transform_factory\u001b[0m\u001b[1;33m(\u001b[0m\u001b[0mself\u001b[0m\u001b[1;33m.\u001b[0m\u001b[0m_a\u001b[0m\u001b[1;33m.\u001b[0m\u001b[0mfrozen\u001b[0m\u001b[1;33m(\u001b[0m\u001b[1;33m)\u001b[0m\u001b[1;33m,\u001b[0m \u001b[0mself\u001b[0m\u001b[1;33m.\u001b[0m\u001b[0m_b\u001b[0m\u001b[1;33m.\u001b[0m\u001b[0mfrozen\u001b[0m\u001b[1;33m(\u001b[0m\u001b[1;33m)\u001b[0m\u001b[1;33m)\u001b[0m\u001b[1;33m\u001b[0m\u001b[0m\n\u001b[0m\u001b[1;32m   2317\u001b[0m         \u001b[1;32mif\u001b[0m \u001b[1;32mnot\u001b[0m \u001b[0misinstance\u001b[0m\u001b[1;33m(\u001b[0m\u001b[0mfrozen\u001b[0m\u001b[1;33m,\u001b[0m \u001b[0mCompositeGenericTransform\u001b[0m\u001b[1;33m)\u001b[0m\u001b[1;33m:\u001b[0m\u001b[1;33m\u001b[0m\u001b[0m\n\u001b[1;32m   2318\u001b[0m             \u001b[1;32mreturn\u001b[0m \u001b[0mfrozen\u001b[0m\u001b[1;33m.\u001b[0m\u001b[0mfrozen\u001b[0m\u001b[1;33m(\u001b[0m\u001b[1;33m)\u001b[0m\u001b[1;33m\u001b[0m\u001b[0m\n",
      "\u001b[0;32mC:\\Users\\samym\\Anaconda3\\lib\\site-packages\\matplotlib\\transforms.py\u001b[0m in \u001b[0;36mfrozen\u001b[0;34m(self)\u001b[0m\n\u001b[1;32m   2316\u001b[0m         \u001b[0mfrozen\u001b[0m \u001b[1;33m=\u001b[0m \u001b[0mcomposite_transform_factory\u001b[0m\u001b[1;33m(\u001b[0m\u001b[0mself\u001b[0m\u001b[1;33m.\u001b[0m\u001b[0m_a\u001b[0m\u001b[1;33m.\u001b[0m\u001b[0mfrozen\u001b[0m\u001b[1;33m(\u001b[0m\u001b[1;33m)\u001b[0m\u001b[1;33m,\u001b[0m \u001b[0mself\u001b[0m\u001b[1;33m.\u001b[0m\u001b[0m_b\u001b[0m\u001b[1;33m.\u001b[0m\u001b[0mfrozen\u001b[0m\u001b[1;33m(\u001b[0m\u001b[1;33m)\u001b[0m\u001b[1;33m)\u001b[0m\u001b[1;33m\u001b[0m\u001b[0m\n\u001b[1;32m   2317\u001b[0m         \u001b[1;32mif\u001b[0m \u001b[1;32mnot\u001b[0m \u001b[0misinstance\u001b[0m\u001b[1;33m(\u001b[0m\u001b[0mfrozen\u001b[0m\u001b[1;33m,\u001b[0m \u001b[0mCompositeGenericTransform\u001b[0m\u001b[1;33m)\u001b[0m\u001b[1;33m:\u001b[0m\u001b[1;33m\u001b[0m\u001b[0m\n\u001b[0;32m-> 2318\u001b[0;31m             \u001b[1;32mreturn\u001b[0m \u001b[0mfrozen\u001b[0m\u001b[1;33m.\u001b[0m\u001b[0mfrozen\u001b[0m\u001b[1;33m(\u001b[0m\u001b[1;33m)\u001b[0m\u001b[1;33m\u001b[0m\u001b[0m\n\u001b[0m\u001b[1;32m   2319\u001b[0m         \u001b[1;32mreturn\u001b[0m \u001b[0mfrozen\u001b[0m\u001b[1;33m\u001b[0m\u001b[0m\n\u001b[1;32m   2320\u001b[0m     \u001b[0mfrozen\u001b[0m\u001b[1;33m.\u001b[0m\u001b[0m__doc__\u001b[0m \u001b[1;33m=\u001b[0m \u001b[0mTransform\u001b[0m\u001b[1;33m.\u001b[0m\u001b[0mfrozen\u001b[0m\u001b[1;33m.\u001b[0m\u001b[0m__doc__\u001b[0m\u001b[1;33m\u001b[0m\u001b[0m\n",
      "\u001b[0;32mC:\\Users\\samym\\Anaconda3\\lib\\site-packages\\matplotlib\\transforms.py\u001b[0m in \u001b[0;36mfrozen\u001b[0;34m(self)\u001b[0m\n\u001b[1;32m   1734\u001b[0m \u001b[1;33m\u001b[0m\u001b[0m\n\u001b[1;32m   1735\u001b[0m     \u001b[1;32mdef\u001b[0m \u001b[0mfrozen\u001b[0m\u001b[1;33m(\u001b[0m\u001b[0mself\u001b[0m\u001b[1;33m)\u001b[0m\u001b[1;33m:\u001b[0m\u001b[1;33m\u001b[0m\u001b[0m\n\u001b[0;32m-> 1736\u001b[0;31m         \u001b[1;32mreturn\u001b[0m \u001b[0mAffine2D\u001b[0m\u001b[1;33m(\u001b[0m\u001b[0mself\u001b[0m\u001b[1;33m.\u001b[0m\u001b[0mget_matrix\u001b[0m\u001b[1;33m(\u001b[0m\u001b[1;33m)\u001b[0m\u001b[1;33m.\u001b[0m\u001b[0mcopy\u001b[0m\u001b[1;33m(\u001b[0m\u001b[1;33m)\u001b[0m\u001b[1;33m)\u001b[0m\u001b[1;33m\u001b[0m\u001b[0m\n\u001b[0m\u001b[1;32m   1737\u001b[0m     \u001b[0mfrozen\u001b[0m\u001b[1;33m.\u001b[0m\u001b[0m__doc__\u001b[0m \u001b[1;33m=\u001b[0m \u001b[0mAffineBase\u001b[0m\u001b[1;33m.\u001b[0m\u001b[0mfrozen\u001b[0m\u001b[1;33m.\u001b[0m\u001b[0m__doc__\u001b[0m\u001b[1;33m\u001b[0m\u001b[0m\n\u001b[1;32m   1738\u001b[0m \u001b[1;33m\u001b[0m\u001b[0m\n",
      "\u001b[0;32mC:\\Users\\samym\\Anaconda3\\lib\\site-packages\\matplotlib\\transforms.py\u001b[0m in \u001b[0;36mget_matrix\u001b[0;34m(self)\u001b[0m\n\u001b[1;32m   2462\u001b[0m             self._mtx = np.dot(\n\u001b[1;32m   2463\u001b[0m                 \u001b[0mself\u001b[0m\u001b[1;33m.\u001b[0m\u001b[0m_b\u001b[0m\u001b[1;33m.\u001b[0m\u001b[0mget_matrix\u001b[0m\u001b[1;33m(\u001b[0m\u001b[1;33m)\u001b[0m\u001b[1;33m,\u001b[0m\u001b[1;33m\u001b[0m\u001b[0m\n\u001b[0;32m-> 2464\u001b[0;31m                 self._a.get_matrix())\n\u001b[0m\u001b[1;32m   2465\u001b[0m             \u001b[0mself\u001b[0m\u001b[1;33m.\u001b[0m\u001b[0m_inverted\u001b[0m \u001b[1;33m=\u001b[0m \u001b[1;32mNone\u001b[0m\u001b[1;33m\u001b[0m\u001b[0m\n\u001b[1;32m   2466\u001b[0m             \u001b[0mself\u001b[0m\u001b[1;33m.\u001b[0m\u001b[0m_invalid\u001b[0m \u001b[1;33m=\u001b[0m \u001b[1;36m0\u001b[0m\u001b[1;33m\u001b[0m\u001b[0m\n",
      "\u001b[0;31mKeyboardInterrupt\u001b[0m: "
     ]
    }
   ],
   "source": [
    "fig, ax = plt.subplots()\n",
    "namelist=list()\n",
    "scatterlist=list()\n",
    "for index, instance in enumerate(reduced_data):\n",
    "    #print(instance)\n",
    "    # print instance, index, labels[index]\n",
    "    pca_comp_1, pca_comp_2 = reduced_data[index]\n",
    "    color = labels_color_map[labels[index]]\n",
    "    m = marker_map[labels[index]]\n",
    "    namelist.append(labels_name_map[labels[index]])\n",
    "    scatterlist.append(ax.scatter(pca_comp_1, pca_comp_2, c=color,marker=m))\n",
    "    ax.legend(scatterlist,\n",
    "           namelist,\n",
    "           scatterpoints=1,\n",
    "           loc='best')\n",
    "plt.show()"
   ]
  },
  {
   "cell_type": "code",
   "execution_count": null,
   "metadata": {
    "collapsed": false
   },
   "outputs": [],
   "source": []
  },
  {
   "cell_type": "code",
   "execution_count": null,
   "metadata": {
    "collapsed": false
   },
   "outputs": [],
   "source": []
  },
  {
   "cell_type": "code",
   "execution_count": null,
   "metadata": {
    "collapsed": true
   },
   "outputs": [],
   "source": []
  },
  {
   "cell_type": "code",
   "execution_count": null,
   "metadata": {
    "collapsed": true
   },
   "outputs": [],
   "source": []
  },
  {
   "cell_type": "code",
   "execution_count": null,
   "metadata": {
    "collapsed": true
   },
   "outputs": [],
   "source": []
  },
  {
   "cell_type": "code",
   "execution_count": null,
   "metadata": {
    "collapsed": true
   },
   "outputs": [],
   "source": []
  }
 ],
 "metadata": {
  "anaconda-cloud": {},
  "kernelspec": {
   "display_name": "Python 3",
   "language": "python",
   "name": "python3"
  },
  "language_info": {
   "codemirror_mode": {
    "name": "ipython",
    "version": 3
   },
   "file_extension": ".py",
   "mimetype": "text/x-python",
   "name": "python",
   "nbconvert_exporter": "python",
   "pygments_lexer": "ipython3",
   "version": "3.6.0"
  }
 },
 "nbformat": 4,
 "nbformat_minor": 1
}
