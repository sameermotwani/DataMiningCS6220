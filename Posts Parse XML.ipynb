{
 "cells": [
  {
   "cell_type": "code",
   "execution_count": 22,
   "metadata": {
    "collapsed": false
   },
   "outputs": [
    {
     "name": "stderr",
     "output_type": "stream",
     "text": [
      "C:\\Users\\samym\\Anaconda3\\lib\\site-packages\\bs4\\__init__.py:181: UserWarning: No parser was explicitly specified, so I'm using the best available HTML parser for this system (\"lxml\"). This usually isn't a problem, but if you run this code on another system, or in a different virtual environment, it may use a different parser and behave differently.\n",
      "\n",
      "The code that caused this warning is on line 184 of the file C:\\Users\\samym\\Anaconda3\\lib\\runpy.py. To get rid of this warning, change code that looks like this:\n",
      "\n",
      " BeautifulSoup([your markup])\n",
      "\n",
      "to this:\n",
      "\n",
      " BeautifulSoup([your markup], \"lxml\")\n",
      "\n",
      "  markup_type=markup_type))\n"
     ]
    },
    {
     "name": "stdout",
     "output_type": "stream",
     "text": [
      "[('java', 509), ('programming-languages', 463), ('design', 458), ('c#', 457), ('web-development', 427), ('project-management', 350), ('php', 337), ('open-source', 329), ('c++', 312), ('licensing', 286), ('.net', 280), ('design-patterns', 277), ('object-oriented', 256), ('agile', 256), ('architecture', 241), ('version-control', 229), ('javascript', 224), ('learning', 222), ('productivity', 220), ('algorithms', 212)]\n"
     ]
    }
   ],
   "source": [
    "import sys\n",
    "from bs4 import BeautifulSoup as Soup\n",
    "tags=list()\n",
    "from collections import Counter\n",
    "\n",
    "def parseLog(file):\n",
    "    count=0\n",
    "    with open(file, encoding='utf8') as handler:\n",
    "        soup = Soup(handler)\n",
    "        for message in soup.findAll('row'):\n",
    "            msg_attrs = dict(message.attrs)\n",
    "            if 'tags' in msg_attrs:\n",
    "                msg_attrs=(msg_attrs[u'tags'].replace('<','').replace('>',','))\n",
    "                for msg in msg_attrs.split(','):\n",
    "                    tags.append(msg)\n",
    "                count=count+1\n",
    "\n",
    "            if count == 10000:\n",
    "                break;\n",
    "\n",
    "        # print(f_user_dict[u'friendlyname'])\n",
    "\n",
    "if __name__ == \"__main__\":\n",
    "  \n",
    "    parseLog(\"C:\\\\Users\\\\samym\\\\Downloads\\\\programmers.stackexchange.com\\\\Posts.xml\")\n",
    "    tags=list(filter(None, tags))\n",
    "    counts=dict()\n",
    "    #counts=Counter(tags)\n",
    "    print(Counter(tags).most_common(20))"
   ]
  },
  {
   "cell_type": "code",
   "execution_count": null,
   "metadata": {
    "collapsed": true
   },
   "outputs": [],
   "source": []
  }
 ],
 "metadata": {
  "anaconda-cloud": {},
  "kernelspec": {
   "display_name": "Python [conda root]",
   "language": "python",
   "name": "conda-root-py"
  },
  "language_info": {
   "codemirror_mode": {
    "name": "ipython",
    "version": 3
   },
   "file_extension": ".py",
   "mimetype": "text/x-python",
   "name": "python",
   "nbconvert_exporter": "python",
   "pygments_lexer": "ipython3",
   "version": "3.5.2"
  }
 },
 "nbformat": 4,
 "nbformat_minor": 1
}
