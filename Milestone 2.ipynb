{
 "cells": [
  {
   "cell_type": "code",
   "execution_count": 1,
   "metadata": {
    "collapsed": false
   },
   "outputs": [
    {
     "name": "stderr",
     "output_type": "stream",
     "text": [
      "/opt/conda/lib/python3.5/site-packages/matplotlib/font_manager.py:273: UserWarning: Matplotlib is building the font cache using fc-list. This may take a moment.\n",
      "  warnings.warn('Matplotlib is building the font cache using fc-list. This may take a moment.')\n",
      "/opt/conda/lib/python3.5/site-packages/matplotlib/font_manager.py:273: UserWarning: Matplotlib is building the font cache using fc-list. This may take a moment.\n",
      "  warnings.warn('Matplotlib is building the font cache using fc-list. This may take a moment.')\n"
     ]
    }
   ],
   "source": [
    "### Imports, functions and global variables\n",
    "import sys\n",
    "import os\n",
    "import re\n",
    "from bs4 import BeautifulSoup as Soup\n",
    "from collections import Counter\n",
    "from collections import defaultdict\n",
    "from collections import Counter\n",
    "import numpy as np\n",
    "import matplotlib.pyplot as plt\n",
    "#import pyspark\n",
    "#import numpy as np\n",
    "#from pyspark import SparkContext\n",
    "#from pyspark.mllib.fpm import FPGrowth\n",
    "\n",
    "#SparkContext.setSystemProperty('spark.executor.memory','3g')\n",
    "#sc = pyspark.SparkContext('local[*]')\n",
    "\n",
    "## Global variables\n",
    "\n",
    "totalquestions=0\n",
    "totalQuestionswithacceptedanswers=0\n",
    "totalQuestionswithnoacceptedanswers=0\n",
    "bodydict=dict()\n",
    "\n",
    "posts_by_tag = defaultdict()\n",
    "tags_by_year = defaultdict()\n",
    "tags_by_post_id = defaultdict()\n",
    "userdict=dict()\n",
    "tags=list()\n",
    "\n",
    "acceptedanswers=list()\n",
    "bestuser=list()\n",
    "\n",
    "def populate_posts_by_tag(tag,post_id):\n",
    "    global posts_by_tag\n",
    "    if tag == '':\n",
    "        return\n",
    "    if post_id == '':\n",
    "        return\n",
    "\n",
    "    if tag not in posts_by_tag:\n",
    "        posts_by_tag[tag] = set()\n",
    "    posts_by_tag[tag].add(int(post_id))\n",
    "\n",
    "def populate_tags_by_post_id(id,tag):\n",
    "    global tags_by_post_id\n",
    "    if tag == '':\n",
    "        return\n",
    "    if id == '':\n",
    "        return\n",
    "\n",
    "    if id not in tags_by_post_id:\n",
    "        tags_by_post_id[id] = list()\n",
    "    tags_by_post_id[id].append(tag)\n",
    "    \n",
    "def populate_tags_by_year(tag,year):\n",
    "    global tags_by_year\n",
    "    if tag == '':\n",
    "        return\n",
    "    if year == '':\n",
    "        return\n",
    "\n",
    "    if tag not in tags_by_year:\n",
    "        tags_by_year[tag] = list()\n",
    "    tags_by_year[tag].append(year)\n",
    "\n",
    "def plot_tags(tagCount):\n",
    "    \n",
    "    x,y = zip(*tagCount)\n",
    "\n",
    "    colormap = plt.cm.gist_ncar #nipy_spectral, Set1,Paired  \n",
    "    colors = [colormap(i) for i in np.linspace(0, 0.8,50)]   \n",
    "\n",
    "    area = [i/100 for i in list(y)]   # 0 to 15 point radiuses\n",
    "    plt.figure(figsize=(8,8))\n",
    "    plt.ylabel(\"Number of question associations\")\n",
    "    for i in range(len(y)):\n",
    "        plt.plot(i+0.5,y[i], marker='o', linestyle='',ms=area[i],label=x[i])\n",
    "\n",
    "    plt.legend(numpoints=1)\n",
    "    plt.show()\n",
    "    \n",
    "def parse_posts(file):\n",
    "    global totalquestions,totalQuestionswithacceptedanswers,totalQuestionswithnoacceptedanswers,bodydict\n",
    "\n",
    "    count=0\n",
    "    with open(file, encoding='utf8') as handler:\n",
    "        soup = Soup(handler,\"html.parser\")\n",
    "        for message in soup.findAll('row'):\n",
    "            msg_attrs = dict(message.attrs)\n",
    "            id = msg_attrs['id']     \n",
    "            \n",
    "            if 'body' in msg_attrs:\n",
    "                #id=(msg_attrs[u'id'])\n",
    "                body=(msg_attrs[u'body'])\n",
    "                bodydict[id]=Soup(body,\"html.parser\").getText()\n",
    "\n",
    "            if 'tags' in msg_attrs:\n",
    "                year =  msg_attrs['creationdate'].split(\"-\")[0]\n",
    "                #print(year)\n",
    "                msg_attrs=(msg_attrs[u'tags'].replace('<','').replace('>',','))\n",
    "                for msg in msg_attrs.split(','):\n",
    "                    tags.append(msg)\n",
    "                    populate_posts_by_tag(msg,id)\n",
    "                    populate_tags_by_year(msg,year)\n",
    "                    populate_tags_by_post_id(id,msg)\n",
    "            \n",
    "            msg_attrs = dict(message.attrs)\n",
    "            posttypeid = msg_attrs['posttypeid']\n",
    "            \n",
    "            if posttypeid == \"1\":\n",
    "                totalquestions+=1\n",
    "                if 'acceptedanswerid' in msg_attrs:\n",
    "                    totalQuestionswithacceptedanswers+=1\n",
    "                    acceptedanswerid = msg_attrs['acceptedanswerid']\n",
    "                    acceptedanswers.append(acceptedanswerid)\n",
    "                else:\n",
    "                    totalQuestionswithnoacceptedanswers+=1\n",
    "            else:\n",
    "                if id in acceptedanswers and 'owneruserid' in msg_attrs:\n",
    "                     bestuser.append(msg_attrs['owneruserid'])\n",
    "                    \n",
    "                #count=count+1\n",
    "\n",
    "            # if count == 5:\n",
    "            #     break\n",
    "            \n",
    "def parse_users(file):\n",
    "    global userdict\n",
    "    count=0\n",
    "    with open(file, encoding='utf8') as handler:\n",
    "        soup = Soup(handler,\"html.parser\")\n",
    "        for message in soup.findAll('row'):\n",
    "            msg_attrs = dict(message.attrs)\n",
    "            id=(msg_attrs[u'id'])\n",
    "            username=(msg_attrs[u'displayname'])\n",
    "            userdict[id]=username                   "
   ]
  },
  {
   "cell_type": "code",
   "execution_count": 2,
   "metadata": {
    "collapsed": false
   },
   "outputs": [
    {
     "name": "stdout",
     "output_type": "stream",
     "text": [
      "Top 20 most common tags, and the number of their occurences : [('java', 3511), ('c#', 3007), ('design', 2886), ('design-patterns', 2475), ('object-oriented', 2036), ('c++', 1822), ('algorithms', 1732), ('php', 1667), ('architecture', 1639), ('javascript', 1578), ('licensing', 1269), ('database', 1256), ('web-development', 1223), ('programming-languages', 1205), ('python', 1183), ('programming-practices', 1167), ('.net', 1084), ('unit-testing', 1063), ('c', 958), ('testing', 956)]\n"
     ]
    }
   ],
   "source": [
    "parse_posts(\"programmers.stackexchange.com/Posts.xml\")\n",
    "tags=list(filter(None, tags))\n",
    "counts=dict()\n",
    "\n",
    "top_20_words = Counter(tags).most_common(20)\n",
    "print(\"Top 20 most common tags, and the number of their occurences :\", top_20_words)"
   ]
  },
  {
   "cell_type": "code",
   "execution_count": 3,
   "metadata": {
    "collapsed": true
   },
   "outputs": [],
   "source": [
    "import pyspark\n",
    "from pyspark import SparkContext\n",
    "from pyspark import SQLContext\n",
    "from pyspark.ml.feature import PCA\n",
    "from pyspark.ml.feature import Word2Vec\n",
    "import numpy as np\n",
    "import matplotlib.pyplot as plt\n",
    "import json\n",
    "import re\n",
    "from pyspark.ml.feature import StopWordsRemover,Tokenizer, RegexTokenizer,CountVectorizer,IDF\n",
    "\n",
    "plt.style.use('fivethirtyeight')\n",
    "SparkContext.setSystemProperty('spark.executor.memory','2g')\n",
    "sc = pyspark.SparkContext('local[*]')\n",
    "%matplotlib inline"
   ]
  },
  {
   "cell_type": "code",
   "execution_count": 6,
   "metadata": {
    "collapsed": false
   },
   "outputs": [],
   "source": [
    "sqlContext = SQLContext(sc)\n",
    "body_df = sqlContext.createDataFrame(bodydict.items(), [\"id\", \"post_body\"])"
   ]
  },
  {
   "cell_type": "code",
   "execution_count": 8,
   "metadata": {
    "collapsed": false
   },
   "outputs": [
    {
     "name": "stdout",
     "output_type": "stream",
     "text": [
      "+------+--------------------+\n",
      "|    id|           post_body|\n",
      "+------+--------------------+\n",
      "|269448|I need to find a ...|\n",
      "| 54218|It's a beautiful,...|\n",
      "| 28581|Ask yourself how ...|\n",
      "|271376|It's clear to eve...|\n",
      "|235938|I took your quest...|\n",
      "|129601|Professional Atti...|\n",
      "|272446|You could, instea...|\n",
      "|255404|I understand most...|\n",
      "|126997|using statements ...|\n",
      "|273865|I have the follow...|\n",
      "|186087|If you want to do...|\n",
      "| 20699|I'm going to take...|\n",
      "|329153|\n",
      "Suppose I have 3...|\n",
      "| 32482|So can an algorit...|\n",
      "|127023|I was reading ano...|\n",
      "|291328|I think that the ...|\n",
      "|212334|.NET has an inter...|\n",
      "|337295|Some languages cl...|\n",
      "|121431|Not a full answer...|\n",
      "|336458|Remainder is the ...|\n",
      "+------+--------------------+\n",
      "only showing top 20 rows\n",
      "\n"
     ]
    }
   ],
   "source": [
    "body_df.show(truncate=True)"
   ]
  },
  {
   "cell_type": "code",
   "execution_count": 15,
   "metadata": {
    "collapsed": false
   },
   "outputs": [
    {
     "name": "stdout",
     "output_type": "stream",
     "text": [
      "+--------------------+--------------------+------+\n",
      "|           post_body|               words|tokens|\n",
      "+--------------------+--------------------+------+\n",
      "|I need to find a ...|[i, need, to, fin...|   687|\n",
      "|It's a beautiful,...|[it, s, a, beauti...|    63|\n",
      "|Ask yourself how ...|[ask, yourself, h...|   591|\n",
      "|It's clear to eve...|[it, s, clear, to...|    93|\n",
      "|I took your quest...|[i, took, your, q...|   296|\n",
      "|Professional Atti...|[professional, at...|   267|\n",
      "|You could, instea...|[you, could, inst...|    58|\n",
      "|I understand most...|[i, understand, m...|   260|\n",
      "|using statements ...|[using, statement...|   115|\n",
      "|I have the follow...|[i, have, the, fo...|   183|\n",
      "|If you want to do...|[if, you, want, t...|   177|\n",
      "|I'm going to take...|[i, m, going, to,...|   110|\n",
      "|\n",
      "Suppose I have 3...|[suppose, i, have...|   255|\n",
      "|So can an algorit...|[so, can, an, alg...|    52|\n",
      "|I was reading ano...|[i, was, reading,...|    85|\n",
      "|I think that the ...|[i, think, that, ...|   210|\n",
      "|.NET has an inter...|[net, has, an, in...|   674|\n",
      "|Some languages cl...|[some, languages,...|   169|\n",
      "|Not a full answer...|[not, a, full, an...|    83|\n",
      "|Remainder is the ...|[remainder, is, t...|   268|\n",
      "+--------------------+--------------------+------+\n",
      "only showing top 20 rows\n",
      "\n"
     ]
    }
   ],
   "source": [
    "from pyspark.sql.functions import col, udf\n",
    "from pyspark.sql.types import IntegerType\n",
    "\n",
    "countTokens = udf(lambda words: len(words), IntegerType())\n",
    "\n",
    "regexTokenizer = RegexTokenizer(inputCol=\"post_body\", outputCol=\"words\", pattern=\"[\\W[0-9]*]\")\n",
    "tokenized = regexTokenizer.transform(body_df)\n",
    "tokenized.select(\"post_body\", \"words\")\\\n",
    "    .withColumn(\"tokens\", countTokens(col(\"words\"))).show(truncate=True)\n",
    "\n"
   ]
  },
  {
   "cell_type": "code",
   "execution_count": 16,
   "metadata": {
    "collapsed": false
   },
   "outputs": [
    {
     "name": "stdout",
     "output_type": "stream",
     "text": [
      "+------+--------------------+--------------------+--------------------+\n",
      "|    id|           post_body|               words|            filtered|\n",
      "+------+--------------------+--------------------+--------------------+\n",
      "|269448|I need to find a ...|[i, need, to, fin...|[need, find, solu...|\n",
      "| 54218|It's a beautiful,...|[it, s, a, beauti...|[beautiful, troub...|\n",
      "| 28581|Ask yourself how ...|[ask, yourself, h...|[ask, much, added...|\n",
      "|271376|It's clear to eve...|[it, s, clear, to...|[clear, everyone,...|\n",
      "|235938|I took your quest...|[i, took, your, q...|[took, question, ...|\n",
      "|129601|Professional Atti...|[professional, at...|[professional, at...|\n",
      "|272446|You could, instea...|[you, could, inst...|[instead, using, ...|\n",
      "|255404|I understand most...|[i, understand, m...|[understand, basi...|\n",
      "|126997|using statements ...|[using, statement...|[using, statement...|\n",
      "|273865|I have the follow...|[i, have, the, fo...|[following, simpl...|\n",
      "|186087|If you want to do...|[if, you, want, t...|[want, dri, use, ...|\n",
      "| 20699|I'm going to take...|[i, m, going, to,...|[m, going, take, ...|\n",
      "|329153|\n",
      "Suppose I have 3...|[suppose, i, have...|[suppose, domain,...|\n",
      "| 32482|So can an algorit...|[so, can, an, alg...|[algorithm, paten...|\n",
      "|127023|I was reading ano...|[i, was, reading,...|[reading, another...|\n",
      "|291328|I think that the ...|[i, think, that, ...|[think, requireme...|\n",
      "|212334|.NET has an inter...|[net, has, an, in...|[net, intermediat...|\n",
      "|337295|Some languages cl...|[some, languages,...|[languages, claim...|\n",
      "|121431|Not a full answer...|[not, a, full, an...|[full, answer, ne...|\n",
      "|336458|Remainder is the ...|[remainder, is, t...|[remainder, overk...|\n",
      "+------+--------------------+--------------------+--------------------+\n",
      "only showing top 20 rows\n",
      "\n"
     ]
    }
   ],
   "source": [
    "def remove_stop_words(df, sw_file=\"stopwords_english.txt\", ic=\"words\"): \n",
    "    \n",
    "    filter_words = sc.textFile(\"stopwords_english.txt\").collect()\n",
    "    stop_words_remover = StopWordsRemover(inputCol=ic, outputCol=\"filtered\", stopWords=filter_words)\n",
    "    new_df = stop_words_remover.transform(df)\n",
    "    return new_df\n",
    "\n",
    "filtered_df = remove_stop_words(tokenized)\n",
    "filtered_df.show()"
   ]
  },
  {
   "cell_type": "code",
   "execution_count": 18,
   "metadata": {
    "collapsed": false
   },
   "outputs": [],
   "source": [
    "cv = CountVectorizer(inputCol=\"filtered\", outputCol=\"features\", minDF=2.0, vocabSize=1000)\n",
    "cv_model = cv.fit(filtered_df)\n",
    "\n",
    "result = cv_model.transform(filtered_df)"
   ]
  },
  {
   "cell_type": "code",
   "execution_count": 19,
   "metadata": {
    "collapsed": false
   },
   "outputs": [
    {
     "name": "stdout",
     "output_type": "stream",
     "text": [
      "+------+--------------------+--------------------+--------------------+--------------------+\n",
      "|    id|           post_body|               words|            filtered|            features|\n",
      "+------+--------------------+--------------------+--------------------+--------------------+\n",
      "|269448|I need to find a ...|[i, need, to, fin...|[need, find, solu...|(1000,[1,2,4,5,6,...|\n",
      "| 54218|It's a beautiful,...|[it, s, a, beauti...|[beautiful, troub...|(1000,[1,6,10,11,...|\n",
      "| 28581|Ask yourself how ...|[ask, yourself, h...|[ask, much, added...|(1000,[0,6,9,12,1...|\n",
      "|271376|It's clear to eve...|[it, s, clear, to...|[clear, everyone,...|(1000,[22,52,60,7...|\n",
      "|235938|I took your quest...|[i, took, your, q...|[took, question, ...|(1000,[0,1,3,4,6,...|\n",
      "|129601|Professional Atti...|[professional, at...|[professional, at...|(1000,[0,2,4,6,12...|\n",
      "|272446|You could, instea...|[you, could, inst...|[instead, using, ...|(1000,[0,1,3,8,13...|\n",
      "|255404|I understand most...|[i, understand, m...|[understand, basi...|(1000,[1,3,6,9,11...|\n",
      "|126997|using statements ...|[using, statement...|[using, statement...|(1000,[1,3,4,13,1...|\n",
      "|273865|I have the follow...|[i, have, the, fo...|[following, simpl...|(1000,[0,1,3,5,13...|\n",
      "|186087|If you want to do...|[if, you, want, t...|[want, dri, use, ...|(1000,[1,2,3,9,10...|\n",
      "| 20699|I'm going to take...|[i, m, going, to,...|[m, going, take, ...|(1000,[9,17,24,25...|\n",
      "|329153|\n",
      "Suppose I have 3...|[suppose, i, have...|[suppose, domain,...|(1000,[2,4,5,6,7,...|\n",
      "| 32482|So can an algorit...|[so, can, an, alg...|[algorithm, paten...|(1000,[24,29,79,1...|\n",
      "|127023|I was reading ano...|[i, was, reading,...|[reading, another...|(1000,[2,3,8,19,7...|\n",
      "|291328|I think that the ...|[i, think, that, ...|[think, requireme...|(1000,[2,3,6,7,10...|\n",
      "|212334|.NET has an inter...|[net, has, an, in...|[net, intermediat...|(1000,[0,2,3,8,12...|\n",
      "|337295|Some languages cl...|[some, languages,...|[languages, claim...|(1000,[5,19,20,32...|\n",
      "|121431|Not a full answer...|[not, a, full, an...|[full, answer, ne...|(1000,[0,1,3,6,8,...|\n",
      "|336458|Remainder is the ...|[remainder, is, t...|[remainder, overk...|(1000,[2,10,11,15...|\n",
      "+------+--------------------+--------------------+--------------------+--------------------+\n",
      "only showing top 20 rows\n",
      "\n"
     ]
    }
   ],
   "source": [
    "result.show()"
   ]
  },
  {
   "cell_type": "code",
   "execution_count": 20,
   "metadata": {
    "collapsed": false
   },
   "outputs": [
    {
     "name": "stdout",
     "output_type": "stream",
     "text": [
      "+------+--------------------+--------------------+--------------------+--------------------+--------------------+\n",
      "|    id|           post_body|               words|            filtered|            features|         pcaFeatures|\n",
      "+------+--------------------+--------------------+--------------------+--------------------+--------------------+\n",
      "|269448|I need to find a ...|[i, need, to, fin...|[need, find, solu...|(1000,[1,2,4,5,6,...|[-0.4673057240739...|\n",
      "| 54218|It's a beautiful,...|[it, s, a, beauti...|[beautiful, troub...|(1000,[1,6,10,11,...|[-0.0331658734790...|\n",
      "| 28581|Ask yourself how ...|[ask, yourself, h...|[ask, much, added...|(1000,[0,6,9,12,1...|[-0.3367331055777...|\n",
      "|271376|It's clear to eve...|[it, s, clear, to...|[clear, everyone,...|(1000,[22,52,60,7...|[-0.0243552556321...|\n",
      "|235938|I took your quest...|[i, took, your, q...|[took, question, ...|(1000,[0,1,3,4,6,...|[-0.4877592716069...|\n",
      "|129601|Professional Atti...|[professional, at...|[professional, at...|(1000,[0,2,4,6,12...|[-2.1962980374852...|\n",
      "|272446|You could, instea...|[you, could, inst...|[instead, using, ...|(1000,[0,1,3,8,13...|[-0.1774686101590...|\n",
      "|255404|I understand most...|[i, understand, m...|[understand, basi...|(1000,[1,3,6,9,11...|[-0.1131229082676...|\n",
      "|126997|using statements ...|[using, statement...|[using, statement...|(1000,[1,3,4,13,1...|[-0.1655779624878...|\n",
      "|273865|I have the follow...|[i, have, the, fo...|[following, simpl...|(1000,[0,1,3,5,13...|[-0.3919016292602...|\n",
      "|186087|If you want to do...|[if, you, want, t...|[want, dri, use, ...|(1000,[1,2,3,9,10...|[-0.0944289470367...|\n",
      "| 20699|I'm going to take...|[i, m, going, to,...|[m, going, take, ...|(1000,[9,17,24,25...|[-0.0573490542196...|\n",
      "|329153|\n",
      "Suppose I have 3...|[suppose, i, have...|[suppose, domain,...|(1000,[2,4,5,6,7,...|[-0.3041366293950...|\n",
      "| 32482|So can an algorit...|[so, can, an, alg...|[algorithm, paten...|(1000,[24,29,79,1...|[-0.0133792532953...|\n",
      "|127023|I was reading ano...|[i, was, reading,...|[reading, another...|(1000,[2,3,8,19,7...|[-0.5998199151247...|\n",
      "|291328|I think that the ...|[i, think, that, ...|[think, requireme...|(1000,[2,3,6,7,10...|[-0.5362297222927...|\n",
      "|212334|.NET has an inter...|[net, has, an, in...|[net, intermediat...|(1000,[0,2,3,8,12...|[-2.8945516439350...|\n",
      "|337295|Some languages cl...|[some, languages,...|[languages, claim...|(1000,[5,19,20,32...|[-0.5553384715418...|\n",
      "|121431|Not a full answer...|[not, a, full, an...|[full, answer, ne...|(1000,[0,1,3,6,8,...|[-0.3879625478483...|\n",
      "|336458|Remainder is the ...|[remainder, is, t...|[remainder, overk...|(1000,[2,10,11,15...|[-0.3166779511142...|\n",
      "+------+--------------------+--------------------+--------------------+--------------------+--------------------+\n",
      "only showing top 20 rows\n",
      "\n"
     ]
    }
   ],
   "source": [
    "pca = PCA(k=50, inputCol=\"features\", outputCol=\"pcaFeatures\")\n",
    "pca_model = pca.fit(result)\n",
    "\n",
    "result = pca_model.transform(result)\n",
    "result.show(truncate=True)"
   ]
  },
  {
   "cell_type": "markdown",
   "metadata": {},
   "source": [
    "#### Plot the eigenvalues of the principal components. Calculate how many components are needed to explain 50% of the total variance?\n",
    "\n",
    "#### Answer: \n",
    "Each of the components explain a part of the total variance. In order to find out the percentage of variance contributed by each component, we use cumulative sum of each component over total sum."
   ]
  },
  {
   "cell_type": "code",
   "execution_count": 21,
   "metadata": {
    "collapsed": false
   },
   "outputs": [
    {
     "data": {
      "image/png": "[encoded data removed]",
      "text/plain": [
       "<matplotlib.figure.Figure at 0x7f4f43e4ec18>"
      ]
     },
     "metadata": {},
     "output_type": "display_data"
    }
   ],
   "source": [
    "variance_fraction=np.cumsum(pca_model.explainedVariance)/np.sum(pca_model.explainedVariance)\n",
    "plot_var = plt.plot(variance_fraction)"
   ]
  },
  {
   "cell_type": "code",
   "execution_count": 22,
   "metadata": {
    "collapsed": false
   },
   "outputs": [
    {
     "name": "stdout",
     "output_type": "stream",
     "text": [
      "50% of the variance is explained by 4 components\n"
     ]
    }
   ],
   "source": [
    "import bisect\n",
    "index_of_nearest_width = bisect.bisect_left(variance_fraction, 0.5) \n",
    "print(\"50% of the variance is explained by\", index_of_nearest_width, \"components\")"
   ]
  },
  {
   "cell_type": "markdown",
   "metadata": {},
   "source": [
    "#### c. Identify which words are important in each of the principal components. To do so, take the sum of squares of each of the component vectors to check how they are normalized. For each component, then print out the words for which the absolute value of the component is larger than 0.20 of the norm."
   ]
  },
  {
   "cell_type": "code",
   "execution_count": 23,
   "metadata": {
    "collapsed": false
   },
   "outputs": [
    {
     "name": "stdout",
     "output_type": "stream",
     "text": [
      "['x']\n",
      "['code', 'class']\n",
      "['code', 'class', 'public']\n",
      "['code', 'data', 'public']\n",
      "['c']\n",
      "['code', 'data']\n",
      "['class', 'function', 'value', 'return', 'int', 'n']\n",
      "['data', 'class', 'c', 'object', 'public', 'function']\n",
      "['test', 'tests', 'testing', 'unit']\n",
      "['use', 'data', 'user', 'server']\n",
      "['class', 'language', 'b', 'n']\n",
      "['use', 'user', 'object', 'function', 'int', 'n']\n",
      "['use', 'user', 'project', 'software', 'function', 'n']\n",
      "['one', 'like', 'm', 'user', 'object', 'software', 'function', 'type']\n",
      "['one', 'new', 'user', 'object', 'software', 'function']\n",
      "['use', 'one', 'like', 'new', 'function', 'type']\n",
      "['one', 'new', 'object', 'n']\n",
      "['one', 'time', 'class', 'new', 'object', 'public', 'type', 'model']\n",
      "['use', 'like', 'time', 'm', 'b', 'int', 'f']\n",
      "['user', 'type', 'server', 'b', 'client', 'int', 'n']\n",
      "['time', 'new', 'user', 'type', 'b', 'int', 'f']\n",
      "['use', 'like', 'time', 'm', 'language', 'b', 'int', 'f']\n",
      "['use', 'object', 'project', 'software', 'file', 'team', 'model']\n",
      "['time', 're', 'project', 'software']\n",
      "['string', 'b', 'int', 'n', 'f']\n",
      "['time', 'user', 'system', 'model']\n",
      "['one', 'need', 'm', 'type', 'file', 'int']\n",
      "['like', 'time', 'need', 'get', 'type', 'string', 'f']\n",
      "['like', 'time', 'm', 'value', 'n', 'f']\n",
      "['like', 'm', 're', 'value']\n",
      "['database', 'model', 'id']\n",
      "['time', 'get', 'm', 'value', 'team', 'id']\n",
      "['need', 're', 'method', 'foo', 'bar']\n",
      "['like', 're', 'project', 'application', 'database']\n",
      "['system', 'method', 'list', 'foo', 'bar']\n",
      "['need', 'work', 'project', 'system', 'file', 'team']\n",
      "['database', 'string', 'list', 'id']\n",
      "['need', 'get', 'method', 'string']\n",
      "['get', 'work', 'project', 'method', 'design', 'file']\n",
      "['method', 'e', 'list']\n",
      "['need', 'work', 're', 'software', 'method', 'team']\n",
      "['need', 'system', 'design', 'java', 'branch']\n",
      "['work', 'd', 'database', 'server', 'list', 'id']\n",
      "['d', 'database', 'e', 'java', 'id', 'y']\n",
      "['get', 'e', 'java', 'list']\n",
      "['work', 'may', 'design', 'd', 'return', 'interface']\n",
      "['return', 'java', 'team', 'branch']\n",
      "['design', 'd', 'java']\n",
      "['using', 'want', 'd', 'list', 'state']\n",
      "['make', 'using', 'may', 'd', 'e', 'state']\n"
     ]
    }
   ],
   "source": [
    "top_1000_words = cv_model.vocabulary\n",
    "eigen_vectors = pca_model.pc.toArray().T\n",
    "\n",
    "# print(np.sum(pc_array[0]**2))\n",
    "for k,eigvec in enumerate(eigen_vectors):\n",
    "    imp_words = [top_1000_words[w] for (w,c) in enumerate(np.abs(eigvec)) if c > 0.2]\n",
    "    print(imp_words)\n",
    "      "
   ]
  },
  {
   "cell_type": "code",
   "execution_count": 24,
   "metadata": {
    "collapsed": true
   },
   "outputs": [],
   "source": [
    "def plot_scatter(result,colnum,sample_size):\n",
    "    s = result.take(sample_size)\n",
    "    temp = []\n",
    "    for x in s:\n",
    "        temp.append(x[colnum])\n",
    "    temp = np.array(temp)\n",
    "    ATranspose = temp.transpose()\n",
    "    plt.scatter(ATranspose[0], ATranspose[1])"
   ]
  },
  {
   "cell_type": "code",
   "execution_count": 25,
   "metadata": {
    "collapsed": false
   },
   "outputs": [
    {
     "data": {
      "image/png": "[encoded data removed]",
      "text/plain": [
       "<matplotlib.figure.Figure at 0x7f4f450b2780>"
      ]
     },
     "metadata": {},
     "output_type": "display_data"
    }
   ],
   "source": [
    "plot_scatter(result,4,1000)"
   ]
  },
  {
   "cell_type": "code",
   "execution_count": null,
   "metadata": {
    "collapsed": true
   },
   "outputs": [],
   "source": []
  },
  {
   "cell_type": "code",
   "execution_count": null,
   "metadata": {
    "collapsed": true
   },
   "outputs": [],
   "source": []
  },
  {
   "cell_type": "code",
   "execution_count": null,
   "metadata": {
    "collapsed": true
   },
   "outputs": [],
   "source": []
  },
  {
   "cell_type": "code",
   "execution_count": null,
   "metadata": {
    "collapsed": true
   },
   "outputs": [],
   "source": []
  },
  {
   "cell_type": "code",
   "execution_count": null,
   "metadata": {
    "collapsed": true
   },
   "outputs": [],
   "source": []
  },
  {
   "cell_type": "code",
   "execution_count": null,
   "metadata": {
    "collapsed": true
   },
   "outputs": [],
   "source": []
  },
  {
   "cell_type": "code",
   "execution_count": null,
   "metadata": {
    "collapsed": true
   },
   "outputs": [],
   "source": []
  },
  {
   "cell_type": "code",
   "execution_count": null,
   "metadata": {
    "collapsed": true
   },
   "outputs": [],
   "source": []
  },
  {
   "cell_type": "code",
   "execution_count": null,
   "metadata": {
    "collapsed": true
   },
   "outputs": [],
   "source": []
  },
  {
   "cell_type": "code",
   "execution_count": null,
   "metadata": {
    "collapsed": true
   },
   "outputs": [],
   "source": [
    "\n",
    "from sklearn.cluster import KMeans\n",
    "\n",
    "num_clusters = 5\n",
    "\n",
    "km = KMeans(n_clusters=num_clusters)\n",
    "\n",
    "%time km.fit(tfidf_matrix)\n",
    "\n",
    "clusters = km.labels_.tolist()"
   ]
  },
  {
   "cell_type": "code",
   "execution_count": null,
   "metadata": {
    "collapsed": true
   },
   "outputs": [],
   "source": [
    "import pandas as pd\n",
    "\n",
    "films = { 'body': set(testdict.values()), 'cluster': clusters }\n",
    "\n",
    "frame = pd.DataFrame(films, index = [clusters] , columns = ['body', 'cluster'])"
   ]
  },
  {
   "cell_type": "code",
   "execution_count": null,
   "metadata": {
    "collapsed": true
   },
   "outputs": [],
   "source": [
    "frame['cluster'].value_counts()"
   ]
  },
  {
   "cell_type": "code",
   "execution_count": null,
   "metadata": {
    "collapsed": true
   },
   "outputs": [],
   "source": []
  },
  {
   "cell_type": "code",
   "execution_count": null,
   "metadata": {
    "collapsed": true
   },
   "outputs": [],
   "source": []
  },
  {
   "cell_type": "code",
   "execution_count": null,
   "metadata": {
    "collapsed": true
   },
   "outputs": [],
   "source": []
  }
 ],
 "metadata": {
  "kernelspec": {
   "display_name": "Python 3",
   "language": "python",
   "name": "python3"
  },
  "language_info": {
   "codemirror_mode": {
    "name": "ipython",
    "version": 3
   },
   "file_extension": ".py",
   "mimetype": "text/x-python",
   "name": "python",
   "nbconvert_exporter": "python",
   "pygments_lexer": "ipython3",
   "version": "3.6.0"
  }
 },
 "nbformat": 4,
 "nbformat_minor": 2
}
