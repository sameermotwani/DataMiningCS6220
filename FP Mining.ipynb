{
 "cells": [
  {
   "cell_type": "code",
   "execution_count": null,
   "metadata": {
    "collapsed": true
   },
   "outputs": [],
   "source": [
    "import pyspark\n",
    "import numpy as np\n",
    "from pyspark import SparkContext\n",
    "from pyspark.mllib.fpm import FPGrowth\n",
    "\n",
    "SparkContext.setSystemProperty('spark.executor.memory','3g')\n",
    "sc = pyspark.SparkContext('local[*]')"
   ]
  },
  {
   "cell_type": "code",
   "execution_count": null,
   "metadata": {
    "collapsed": true
   },
   "outputs": [],
   "source": [
    "import csv\n",
    "fp = open(\"output.txt\", \"w\")\n",
    "for key, val in tags_by_post_id.items():\n",
    "    fp.write(' '.join(str(e) for e in val))\n",
    "    fp.write(\"\\n\")\n",
    "\n",
    "data = sc.textFile(\"output.txt\")\n",
    "transactions = data.map(lambda line: line.strip().split(' '))\n",
    "model = FPGrowth.train(transactions, minSupport=0.005, numPartitions=2)\n",
    "result = sorted(model.freqItemsets().collect(), reverse=True)"
   ]
  },
  {
   "cell_type": "code",
   "execution_count": null,
   "metadata": {
    "collapsed": true
   },
   "outputs": [],
   "source": [
    "print(len(result))\n",
    "# Print only frequent item sets with >1\n",
    "for fi in result:\n",
    "    if len(fi.items)> 1:\n",
    "        print(fi)"
   ]
  },
  {
   "cell_type": "code",
   "execution_count": null,
   "metadata": {
    "collapsed": true
   },
   "outputs": [],
   "source": [
    "def get_top_co_occurences(str_tag, result_freq_items):\n",
    "    co_occurence_list = []\n",
    "    for fi in result_freq_items:\n",
    "        if str_tag in fi.items:\n",
    "            co_occurence_list.append((fi.items, fi.freq))\n",
    "    co_author_list1 = sorted(co_occurence_list, key=lambda x: x[1], reverse=True)\n",
    "    print(\"Top 5 tag co-occurrences, along with frequencies, for the tag \"+ str_tag + \" are -\")\n",
    "    for auth in co_author_list1[1:6]:\n",
    "        print(auth) "
   ]
  },
  {
   "cell_type": "code",
   "execution_count": null,
   "metadata": {
    "collapsed": true
   },
   "outputs": [],
   "source": [
    "#We can now find co-occurences for the top 10 tags we found at the beginning of the analysis\n",
    "for key in tagCount:\n",
    "    get_top_co_occurences(key[0],result)"
   ]
  }
 ],
 "metadata": {
  "kernelspec": {
   "display_name": "Python 3",
   "language": "python",
   "name": "python3"
  },
  "language_info": {
   "codemirror_mode": {
    "name": "ipython",
    "version": 3
   },
   "file_extension": ".py",
   "mimetype": "text/x-python",
   "name": "python",
   "nbconvert_exporter": "python",
   "pygments_lexer": "ipython3",
   "version": "3.6.0"
  }
 },
 "nbformat": 4,
 "nbformat_minor": 2
}
