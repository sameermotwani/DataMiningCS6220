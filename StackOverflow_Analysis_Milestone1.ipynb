{
 "cells": [
  {
   "cell_type": "markdown",
   "metadata": {},
   "source": [
    "# StackOverflow Analysis: Milestone 1"
   ]
  },
  {
   "cell_type": "code",
   "execution_count": 14,
   "metadata": {
    "collapsed": false
   },
   "outputs": [],
   "source": [
    "### Imports, functions and global variables\n",
    "import sys\n",
    "import os\n",
    "import re\n",
    "from bs4 import BeautifulSoup as Soup\n",
    "from collections import Counter\n",
    "from collections import defaultdict\n",
    "from collections import Counter\n",
    "import numpy as np\n",
    "import matplotlib.pyplot as plt\n",
    "#import pyspark\n",
    "#import numpy as np\n",
    "#from pyspark import SparkContext\n",
    "#from pyspark.mllib.fpm import FPGrowth\n",
    "\n",
    "#SparkContext.setSystemProperty('spark.executor.memory','3g')\n",
    "#sc = pyspark.SparkContext('local[*]')\n",
    "\n",
    "## Global variables\n",
    "\n",
    "totalquestions=0\n",
    "totalQuestionswithacceptedanswers=0\n",
    "totalQuestionswithnoacceptedanswers=0\n",
    "bodydict=dict()\n",
    "\n",
    "posts_by_tag = defaultdict()\n",
    "tags_by_year = defaultdict()\n",
    "tags_by_post_id = defaultdict()\n",
    "userdict=dict()\n",
    "tags=list()\n",
    "\n",
    "acceptedanswers=list()\n",
    "bestuser=list()\n",
    "\n",
    "def populate_posts_by_tag(tag,post_id):\n",
    "    global posts_by_tag\n",
    "    if tag == '':\n",
    "        return\n",
    "    if post_id == '':\n",
    "        return\n",
    "\n",
    "    if tag not in posts_by_tag:\n",
    "        posts_by_tag[tag] = set()\n",
    "    posts_by_tag[tag].add(int(post_id))\n",
    "\n",
    "def populate_tags_by_post_id(id,tag):\n",
    "    global tags_by_post_id\n",
    "    if tag == '':\n",
    "        return\n",
    "    if id == '':\n",
    "        return\n",
    "\n",
    "    if id not in tags_by_post_id:\n",
    "        tags_by_post_id[id] = list()\n",
    "    tags_by_post_id[id].append(tag)\n",
    "    \n",
    "def populate_tags_by_year(tag,year):\n",
    "    global tags_by_year\n",
    "    if tag == '':\n",
    "        return\n",
    "    if year == '':\n",
    "        return\n",
    "\n",
    "    if tag not in tags_by_year:\n",
    "        tags_by_year[tag] = list()\n",
    "    tags_by_year[tag].append(year)\n",
    "\n",
    "def plot_tags(tagCount):\n",
    "    \n",
    "    x,y = zip(*tagCount)\n",
    "\n",
    "    colormap = plt.cm.gist_ncar #nipy_spectral, Set1,Paired  \n",
    "    colors = [colormap(i) for i in np.linspace(0, 0.8,50)]   \n",
    "\n",
    "    area = [i/100 for i in list(y)]   # 0 to 15 point radiuses\n",
    "    plt.figure(figsize=(8,8))\n",
    "    plt.ylabel(\"Number of question associations\")\n",
    "    for i in range(len(y)):\n",
    "        plt.plot(i+0.5,y[i], marker='o', linestyle='',ms=area[i],label=x[i])\n",
    "\n",
    "    plt.legend(numpoints=1)\n",
    "    plt.show()\n",
    "    \n",
    "def parse_posts(file):\n",
    "    global totalquestions,totalQuestionswithacceptedanswers,totalQuestionswithnoacceptedanswers,bodydict\n",
    "\n",
    "    count=0\n",
    "    with open(file, encoding='utf8') as handler:\n",
    "        soup = Soup(handler,\"html.parser\")\n",
    "        for message in soup.findAll('row'):\n",
    "            msg_attrs = dict(message.attrs)\n",
    "            id = msg_attrs['id']     \n",
    "            \n",
    "            if 'body' in msg_attrs:\n",
    "                #id=(msg_attrs[u'id'])\n",
    "                body=(msg_attrs[u'body'])\n",
    "                bodydict[id]=Soup(body,\"html.parser\").getText()\n",
    "\n",
    "            if 'tags' in msg_attrs:\n",
    "                year =  msg_attrs['creationdate'].split(\"-\")[0]\n",
    "                #print(year)\n",
    "                msg_attrs=(msg_attrs[u'tags'].replace('<','').replace('>',','))\n",
    "                for msg in msg_attrs.split(','):\n",
    "                    tags.append(msg)\n",
    "                    populate_posts_by_tag(msg,id)\n",
    "                    populate_tags_by_year(msg,year)\n",
    "                    populate_tags_by_post_id(id,msg)\n",
    "            \n",
    "            msg_attrs = dict(message.attrs)\n",
    "            posttypeid = msg_attrs['posttypeid']\n",
    "            \n",
    "            if posttypeid == \"1\":\n",
    "                totalquestions+=1\n",
    "                if 'acceptedanswerid' in msg_attrs:\n",
    "                    totalQuestionswithacceptedanswers+=1\n",
    "                    acceptedanswerid = msg_attrs['acceptedanswerid']\n",
    "                    acceptedanswers.append(acceptedanswerid)\n",
    "                else:\n",
    "                    totalQuestionswithnoacceptedanswers+=1\n",
    "            else:\n",
    "                if id in acceptedanswers and 'owneruserid' in msg_attrs:\n",
    "                     bestuser.append(msg_attrs['owneruserid'])\n",
    "                    \n",
    "                #count=count+1\n",
    "\n",
    "            # if count == 5:\n",
    "            #     break\n",
    "            \n",
    "def parse_users(file):\n",
    "    global userdict\n",
    "    count=0\n",
    "    with open(file, encoding='utf8') as handler:\n",
    "        soup = Soup(handler,\"html.parser\")\n",
    "        for message in soup.findAll('row'):\n",
    "            msg_attrs = dict(message.attrs)\n",
    "            id=(msg_attrs[u'id'])\n",
    "            username=(msg_attrs[u'displayname'])\n",
    "            userdict[id]=username                   "
   ]
  },
  {
   "cell_type": "code",
   "execution_count": null,
   "metadata": {
    "collapsed": true
   },
   "outputs": [],
   "source": [
    "parse_posts(\"C:\\\\Users\\\\samym\\\\Downloads\\\\programmers.stackexchange.com\\\\Posts.xml\")\n",
    "tags=list(filter(None, tags))\n",
    "counts=dict()\n",
    "\n",
    "top_20_words = Counter(tags).most_common(20)\n",
    "print(\"Top 20 most common tags, and the number of their occurences :\", top_20_words)"
   ]
  },
  {
   "cell_type": "code",
   "execution_count": 45,
   "metadata": {
    "collapsed": false
   },
   "outputs": [
    {
     "name": "stdout",
     "output_type": "stream",
     "text": [
      "178483\n"
     ]
    }
   ],
   "source": [
    "print(len(bodydict))"
   ]
  },
  {
   "cell_type": "code",
   "execution_count": 16,
   "metadata": {
    "collapsed": false
   },
   "outputs": [
    {
     "name": "stdout",
     "output_type": "stream",
     "text": [
      "A coworker of mine believes that any use of in-code comments (ie, not javadoc style method or class comments) is a code smell.  What do you think?\n",
      "\n",
      "Ideally, code should be so well coded that it should be auto explicative. In the real world, we know that also very high quality code needs sometimes commenting.\n",
      "What you should absolutely avoid is \"comment-code redundancy\" (comments that don't add anything to code):\n",
      "i++; // Increment i by 1\n",
      "\n",
      "Then, if there's a good (and maintained/aligned) code design and documentation, commenting is even less useful.\n",
      "But in some circumstances comments can be a good aid in code readability:\n",
      "while( foo )\n",
      "{\n",
      "     if( dummy )\n",
      "     {\n",
      "     }\n",
      "     else // !dummy\n",
      "     {\n",
      "     }\n",
      "} // end while( foo )\n",
      "\n",
      "Don't forget that you have to maintain and keep in sync also comments... outdated or wrong comments can be a terrible pain! And, as a general rule, commenting too much can be a symptom of bad programming.\n",
      "\n"
     ]
    }
   ],
   "source": [
    "#print body\n",
    "count=0\n",
    "for k,v in bodydict.items():\n",
    "    print(v)\n",
    "    count+=1\n",
    "    if count > 1:\n",
    "        break"
   ]
  },
  {
   "cell_type": "code",
   "execution_count": 23,
   "metadata": {
    "collapsed": false
   },
   "outputs": [],
   "source": [
    "import nltk\n",
    "#nltk.download()\n",
    "stopwords = nltk.corpus.stopwords.words('english')\n",
    "from nltk.stem.snowball import SnowballStemmer\n",
    "stemmer = SnowballStemmer(\"english\")\n",
    "\n",
    "def tokenize_and_stem(text):\n",
    "    # first tokenize by sentence, then by word to ensure that punctuation is caught as it's own token\n",
    "    tokens = [word for sent in nltk.sent_tokenize(text) for word in nltk.word_tokenize(sent)]\n",
    "    filtered_tokens = []\n",
    "    # filter out any tokens not containing letters (e.g., numeric tokens, raw punctuation)\n",
    "    for token in tokens:\n",
    "        if re.search('[a-zA-Z]', token):\n",
    "            filtered_tokens.append(token)\n",
    "    stems = [stemmer.stem(t) for t in filtered_tokens]\n",
    "    return stems\n",
    "\n",
    "def tokenize_only(text):\n",
    "    # first tokenize by sentence, then by word to ensure that punctuation is caught as it's own token\n",
    "    tokens = [word.lower() for sent in nltk.sent_tokenize(text) for word in nltk.word_tokenize(sent)]\n",
    "    filtered_tokens = []\n",
    "    # filter out any tokens not containing letters (e.g., numeric tokens, raw punctuation)\n",
    "    for token in tokens:\n",
    "        if re.search('[a-zA-Z]', token):\n",
    "            filtered_tokens.append(token)\n",
    "    return filtered_tokens"
   ]
  },
  {
   "cell_type": "markdown",
   "metadata": {},
   "source": [
    "# Inspect top 20 tags for this data set.\n",
    "\n",
    "Each post on the website can be associated with multiple tags, which classify the post into a broad topic/category.\n",
    "By counting tag occurences, we determine the top 20 tags. This reflects the popularity of programming topics that users have questions about on the website."
   ]
  },
  {
   "cell_type": "code",
   "execution_count": 42,
   "metadata": {
    "collapsed": false
   },
   "outputs": [],
   "source": [
    "totalvocab_stemmed = []\n",
    "totalvocab_tokenized = []\n",
    "\n",
    "for k,v in bodydict.items():\n",
    "    allwords_stemmed = tokenize_and_stem(v)\n",
    "    totalvocab_stemmed.extend(allwords_stemmed)\n",
    "    allwords_tokenized = tokenize_only(v)\n",
    "    totalvocab_tokenized.extend(allwords_tokenized)"
   ]
  },
  {
   "cell_type": "code",
   "execution_count": 43,
   "metadata": {
    "collapsed": false
   },
   "outputs": [
    {
     "name": "stdout",
     "output_type": "stream",
     "text": [
      "believ\n"
     ]
    }
   ],
   "source": [
    "print(totalvocab_stemmed[4])"
   ]
  },
  {
   "cell_type": "code",
   "execution_count": 35,
   "metadata": {
    "collapsed": false
   },
   "outputs": [
    {
     "name": "stdout",
     "output_type": "stream",
     "text": [
      "a\n",
      "coworker\n",
      "of\n",
      "mine\n",
      "believes\n",
      "that\n",
      "any\n",
      "use\n",
      "of\n",
      "in-code\n"
     ]
    }
   ],
   "source": [
    "i=0\n",
    "while i < 10:\n",
    "    print(totalvocab_tokenized[i])\n",
    "    i+=1"
   ]
  },
  {
   "cell_type": "code",
   "execution_count": 47,
   "metadata": {
    "collapsed": false
   },
   "outputs": [],
   "source": [
    "import pandas as pd\n",
    "#vocab_frame = pd.DataFrame({'words': totalvocab_tokenized}, index = totalvocab_stemmed)\n",
    "df=pd.DataFrame(list(bodydict.items()))"
   ]
  },
  {
   "cell_type": "code",
   "execution_count": 57,
   "metadata": {
    "collapsed": false
   },
   "outputs": [],
   "source": [
    "i=0\n",
    "testdict=dict()\n",
    "for k,v in bodydict.items():\n",
    "    testdict[k]=v\n",
    "    i+=1\n",
    "    if i == 1000:\n",
    "        break"
   ]
  },
  {
   "cell_type": "code",
   "execution_count": 83,
   "metadata": {
    "collapsed": false
   },
   "outputs": [
    {
     "name": "stdout",
     "output_type": "stream",
     "text": [
      "Wall time: 2.33 s\n",
      "(1000, 714)\n"
     ]
    }
   ],
   "source": [
    "from sklearn.feature_extraction.text import TfidfVectorizer\n",
    "\n",
    "tfidf_vectorizer = TfidfVectorizer(max_df=0.8, max_features=200000,\n",
    "                                 min_df=0.01, stop_words='english',\n",
    "                                 use_idf=True, tokenizer=tokenize_and_stem, ngram_range=(1,3))\n",
    "\n",
    "%time tfidf_matrix = tfidf_vectorizer.fit_transform(set(testdict.values()))\n",
    "\n",
    "print(tfidf_matrix.shape)"
   ]
  },
  {
   "cell_type": "code",
   "execution_count": 84,
   "metadata": {
    "collapsed": false
   },
   "outputs": [
    {
     "name": "stdout",
     "output_type": "stream",
     "text": [
      "[\"'d\", \"'m\", \"'m sure\", \"'s\", \"'s code\", \"'s easier\", \"'s good\", \"'s import\", '.net', 'abil', 'abl', 'abov', 'accept', 'access', 'account', 'accur', 'activ', 'actual', 'ad', 'add', 'addit', 'advanc', 'advantag', 'advic', 'affect', 'ago', 'agre', 'algorithm', 'allow', 'alreadi', 'alway', 'ani', 'annoy', 'anoth', 'answer', 'anyon', 'anyth', 'api', 'app', 'appear', 'appli', 'applic', 'approach', 'architectur', 'area', 'argu', 'argument', 'articl', 'ask', 'aspect', 'assign', 'assum', 'attempt', 'author', 'avail', 'avoid', 'away', 'background', 'bad', 'base', 'basic', 'becaus', \"becaus 's\", 'becom', 'befor', 'begin', 'believ', 'benefit', 'best', 'better', 'big', 'bigger', 'biggest', 'bit', 'block', 'blog', 'book', 'boss', 'brace', 'break', 'browser', 'bug', 'build', 'busi', 'c', 'c c++', 'c++', 'ca', \"ca n't\", 'came', 'care', 'career', 'case', 'catch', 'caus', 'certain', 'challeng', 'chanc', 'chang', 'charact', 'check', 'choic', 'choos', 'claim', 'class', 'clear', 'click', 'client', 'close', 'cobol', 'code', 'code base', 'code doe', 'code english', 'code review', 'code standard', 'collect', 'column', 'come', 'comment', 'comment code', 'common', 'communic', 'compani', 'compar', 'compil', 'complet', 'complex', 'complic', 'compon', 'comput', 'comput program', 'comput scienc', 'concept', 'concern', 'condit', 'confid', 'confus', 'connect', 'consid', 'consist', 'constant', 'construct', 'contain', 'context', 'continu', 'control', 'convent', 'convers', 'copi', 'correct', 'cost', 'coupl', 'cours', 'cover', 'coverag', 'creat', 'critic', 'current', 'custom', 'data', 'databas', 'date', 'day', 'deadlin', 'deal', 'debug', 'decid', 'decis', 'declar', 'defin', 'definit', 'deliv', 'demand', 'depend', 'describ', 'design', 'desktop', 'determin', 'dev', 'develop', 'did', \"did n't\", 'differ', 'difficult', 'direct', 'discuss', 'distinct', 'distract', 'document', 'doe', \"doe n't\", 'dure', 'e.g', 'earli', 'easi', 'easier', 'easili', 'edit', 'editor', 'effect', 'effort', 'els', 'email', 'employ', 'encount', 'encourag', 'end', 'engin', 'english', 'entir', 'environ', 'error', 'especi', 'estim', 'everi', 'everyon', 'everyth', 'exact', 'exampl', 'execut', 'exercis', 'exist', 'expect', 'experi', 'experienc', 'explain', 'explain whi', 'express', 'extra', 'extrem', 'eye', 'fact', 'fail', 'fair', 'far', 'fast', 'faster', 'featur', 'feel', 'field', 'figur', 'file', 'final', 'finish', 'fit', 'fix', 'focus', 'follow', 'forc', 'forget', 'form', 'formal', 'format', 'framework', 'free', 'frequent', 'function', 'function program', 'game', 'general', 'generat', 'given', 'goal', 'goe', 'good', 'googl', 'got', 'goto', 'great', 'group', 'guess', 'gui', 'guidelin', 'guy', 'hand', 'handl', 'happen', 'hard', 'harder', 'hate', 'head', 'heard', 'help', 'high', 'higher', 'hire', 'hit', 'home', 'horribl', 'hour', 'howev', 'http', 'huge', 'i.e', 'ide', 'idea', 'ideal', 'identifi', 'ignor', 'immedi', 'implement', 'import', 'improv', 'includ', 'increas', 'indent', 'indic', 'inform', 'initi', 'input', 'insist', 'instanc', 'instead', 'int', 'integr', 'interfac', 'intern', 'interpret', 'interview', 'involv', 'issu', 'java', 'javascript', 'job', 'just', 'key', 'keyboard', 'kind', 'know', 'knowledg', 'known', 'lack', 'languag', 'languag like', 'larg', 'later', 'lead', 'learn', 'leav', 'left', 'let', 'level', 'librari', 'life', 'like', 'limit', 'line', 'line code', 'link', 'list', 'liter', 'littl', 'live', 'll', 'local', 'log', 'logic', 'long', 'longer', 'look', 'look like', 'loop', 'lot', 'love', 'machin', 'main', 'maintain', 'mainten', 'major', 'make', 'make code', 'make sens', 'make sure', 'manag', 'mani', 'market', 'master', 'match', 'matter', 'mayb', 'mean', 'measur', 'meet', 'member', 'memori', 'mention', 'method', 'microsoft', 'mind', 'minut', 'miss', 'mistak', 'mix', 'model', 'modifi', 'moment', 'money', 'monitor', 'month', 'multipl', \"n't\", \"n't care\", \"n't know\", \"n't need\", \"n't realli\", \"n't think\", \"n't understand\", \"n't use\", \"n't want\", 'natur', 'near', 'necessari', 'necessarili', 'need', 'new', 'nice', 'nobodi', 'normal', 'note', 'noth', 'notic', 'number', 'object', 'obvious', 'offer', 'offic', 'ok', 'old', 'onc', 'onli', 'open', 'oper', 'opinion', 'optim', 'option', 'order', 'organ', 'orient', 'origin', 'otherwis', 'outsid', 'overflow', 'page', 'pain', 'paramet', 'particular', 'pass', 'past', 'pattern', 'pay', 'peopl', 'perform', 'person', 'php', 'pick', 'piec', 'place', 'plan', 'platform', 'play', 'pleas', 'point', 'popular', 'posit', 'possibl', 'post', 'potenti', 'power', 'practic', 'prefer', 'prepar', 'present', 'pretti', 'previous', 'principl', 'privat', 'probabl', 'problem', 'process', 'produc', 'product', 'profession', 'program', 'program languag', 'programm', 'programm know', 'project', 'proper', 'prove', 'provid', 'public', 'purpos', 'push', 'python', 'qualiti', 'question', 'quick', 'quit', 'quot', 'rang', 'rare', 'read', 'readabl', 'real', 'real world', 'realiz', 'realli', 'reason', 'recent', 'recommend', 'record', 'reduc', 'refactor', 'refer', 'regular', 'relat', 'releas', 'relev', 'reli', 'rememb', 'remov', 'repeat', 'replac', 'report', 'request', 'requir', 'resourc', 'respons', 'result', 'return', 'review', 'right', 'rule', 'run', 'said', 'saw', 'say', 'schedul', 'school', 'scienc', 'scope', 'screen', 'search', 'second', 'section', 'secur', 'seen', 'select', 'sens', 'separ', 'server', 'set', 'sever', 'share', 'short', 'sign', 'similar', 'simpl', 'simpli', 'sinc', 'singl', 'sit', 'site', 'situat', 'size', 'skill', 'slow', 'small', 'softwar', 'softwar develop', 'softwar engin', 'solut', 'solv', 'solv problem', 'someon', 'someon els', 'someth', 'someth els', 'someth like', 'sometim', 'somewher', 'sort', 'sound', 'sourc', 'sourc code', 'space', 'speak', 'specif', 'speed', 'spend', 'spot', 'stack', 'stack overflow', 'stackoverflow', 'stage', 'standard', 'start', 'state', 'statement', 'stay', 'step', 'stick', 'stop', 'strict', 'string', 'strong', 'structur', 'stuck', 'studi', 'studio', 'stuff', 'stupid', 'style', 'subject', 'success', 'suggest', 'support', 'suppos', 'sure', 'switch', 'syntax', 'tab', 'tabl', 'taken', 'talk', 'task', 'tdd', 'teach', 'team', 'technic', 'techniqu', 'technolog', 'tell', 'tend', 'term', 'terribl', 'test', 'text', 'themselv', 'theori', 'therefor', 'thing', 'thing like', 'think', \"think 's\", 'thought', 'throw', 'time', 'today', 'told', 'took', 'tool', 'topic', 'track', 'tri', 'true', 'turn', 'twitter', 'type', 'understand', 'unfortun', 'unit', 'unit test', 'univers', 'unless', 'updat', 'use', 'useless', 'user', 'usual', 'valu', 'variabl', 've', 've seen', 've work', 'veri', 'version', 'version control', 'view', 'visual', 'visual studio', 'wait', 'want', 'wast', 'watch', 'way', 'web', 'websit', 'week', 'went', 'whatev', 'whi', 'wide', 'win', 'window', 'wo', \"wo n't\", 'wonder', 'word', 'work', 'world', 'worri', 'worst', 'worth', 'write', 'write code', 'written', 'wrong', 'wrote', 'x', 'year', 'year ago', 'yes']\n"
     ]
    }
   ],
   "source": [
    "terms = tfidf_vectorizer.get_feature_names()\n",
    "print (terms)"
   ]
  },
  {
   "cell_type": "code",
   "execution_count": 85,
   "metadata": {
    "collapsed": false
   },
   "outputs": [
    {
     "name": "stdout",
     "output_type": "stream",
     "text": [
      "Wall time: 2.18 s\n"
     ]
    }
   ],
   "source": [
    "\n",
    "from sklearn.cluster import KMeans\n",
    "\n",
    "num_clusters = 5\n",
    "\n",
    "km = KMeans(n_clusters=num_clusters)\n",
    "\n",
    "%time km.fit(tfidf_matrix)\n",
    "\n",
    "clusters = km.labels_.tolist()"
   ]
  },
  {
   "cell_type": "code",
   "execution_count": null,
   "metadata": {
    "collapsed": false
   },
   "outputs": [],
   "source": []
  },
  {
   "cell_type": "code",
   "execution_count": 86,
   "metadata": {
    "collapsed": false
   },
   "outputs": [],
   "source": [
    "import pandas as pd\n",
    "\n",
    "films = { 'body': set(testdict.values()), 'cluster': clusters }\n",
    "\n",
    "frame = pd.DataFrame(films, index = [clusters] , columns = ['body', 'cluster'])"
   ]
  },
  {
   "cell_type": "code",
   "execution_count": 87,
   "metadata": {
    "collapsed": false
   },
   "outputs": [
    {
     "data": {
      "text/plain": [
       "4    437\n",
       "2    183\n",
       "0    175\n",
       "3    160\n",
       "1     45\n",
       "Name: cluster, dtype: int64"
      ]
     },
     "execution_count": 87,
     "metadata": {},
     "output_type": "execute_result"
    }
   ],
   "source": [
    "frame['cluster'].value_counts()"
   ]
  },
  {
   "cell_type": "code",
   "execution_count": 91,
   "metadata": {
    "collapsed": false
   },
   "outputs": [
    {
     "name": "stdout",
     "output_type": "stream",
     "text": [
      "Top terms per cluster:\n",
      "\n"
     ]
    },
    {
     "ename": "AttributeError",
     "evalue": "'list' object has no attribute 'argsort'",
     "output_type": "error",
     "traceback": [
      "\u001b[0;31m---------------------------------------------------------------------------\u001b[0m",
      "\u001b[0;31mAttributeError\u001b[0m                            Traceback (most recent call last)",
      "\u001b[0;32m<ipython-input-91-67ac406d4638>\u001b[0m in \u001b[0;36m<module>\u001b[0;34m()\u001b[0m\n\u001b[1;32m      3\u001b[0m \u001b[0mprint\u001b[0m\u001b[1;33m(\u001b[0m\u001b[1;34m\"Top terms per cluster:\"\u001b[0m\u001b[1;33m)\u001b[0m\u001b[1;33m\u001b[0m\u001b[0m\n\u001b[1;32m      4\u001b[0m \u001b[0mprint\u001b[0m\u001b[1;33m(\u001b[0m\u001b[1;33m)\u001b[0m\u001b[1;33m\u001b[0m\u001b[0m\n\u001b[0;32m----> 5\u001b[0;31m \u001b[0morder_centroids\u001b[0m \u001b[1;33m=\u001b[0m \u001b[0mclusters\u001b[0m\u001b[1;33m.\u001b[0m\u001b[0margsort\u001b[0m\u001b[1;33m(\u001b[0m\u001b[1;33m)\u001b[0m\u001b[1;33m[\u001b[0m\u001b[1;33m:\u001b[0m\u001b[1;33m,\u001b[0m \u001b[1;33m:\u001b[0m\u001b[1;33m:\u001b[0m\u001b[1;33m-\u001b[0m\u001b[1;36m1\u001b[0m\u001b[1;33m]\u001b[0m\u001b[1;33m\u001b[0m\u001b[0m\n\u001b[0m\u001b[1;32m      6\u001b[0m \u001b[1;32mfor\u001b[0m \u001b[0mi\u001b[0m \u001b[1;32min\u001b[0m \u001b[0mrange\u001b[0m\u001b[1;33m(\u001b[0m\u001b[0mnum_clusters\u001b[0m\u001b[1;33m)\u001b[0m\u001b[1;33m:\u001b[0m\u001b[1;33m\u001b[0m\u001b[0m\n\u001b[1;32m      7\u001b[0m     \u001b[0mprint\u001b[0m\u001b[1;33m(\u001b[0m\u001b[1;34m\"Cluster %d words:\"\u001b[0m \u001b[1;33m%\u001b[0m \u001b[0mi\u001b[0m\u001b[1;33m,\u001b[0m \u001b[0mend\u001b[0m\u001b[1;33m=\u001b[0m\u001b[1;34m''\u001b[0m\u001b[1;33m)\u001b[0m\u001b[1;33m\u001b[0m\u001b[0m\n",
      "\u001b[0;31mAttributeError\u001b[0m: 'list' object has no attribute 'argsort'"
     ]
    }
   ],
   "source": [
    "from __future__ import print_function\n",
    "\n",
    "print(\"Top terms per cluster:\")\n",
    "print()\n",
    "order_centroids = clusters.argsort()[:, ::-1]\n",
    "for i in range(num_clusters):\n",
    "    print(\"Cluster %d words:\" % i, end='')\n",
    "    for ind in order_centroids[i, :6]:\n",
    "        print(' %s' % vocab_frame.ix[terms[ind].split(' ')].values.tolist()[0][0].encode('utf-8', 'ignore'), end=',')\n",
    "    print()\n",
    "    print()\n",
    "    print(\"Cluster %d titles:\" % i, end='')\n",
    "    for body in frame.ix[i]['body'].values.tolist():\n",
    "        print(' %s,' % title, end='')\n",
    "    print()\n",
    "    print()"
   ]
  },
  {
   "cell_type": "markdown",
   "metadata": {},
   "source": [
    "#### Exploratory analysis of users and questions on programmers.stackexchange.com "
   ]
  },
  {
   "cell_type": "code",
   "execution_count": 5,
   "metadata": {
    "collapsed": false
   },
   "outputs": [],
   "source": [
    "import json\n",
    "parse_users(\"programmers.stackexchange.com/Users.xml\")   \n",
    "path2=os.path.join(os.getcwd(),'preprocesseddata', 'users.txt')\n",
    "file=open(path2,'w',encoding=\"UTF8\")\n",
    "json.dump(userdict, file)\n",
    "file.close()"
   ]
  },
  {
   "cell_type": "code",
   "execution_count": 6,
   "metadata": {
    "collapsed": false
   },
   "outputs": [
    {
     "name": "stdout",
     "output_type": "stream",
     "text": [
      "Total number of users:  208279\n"
     ]
    }
   ],
   "source": [
    "path2=os.path.join(os.getcwd(),'preprocesseddata', 'users.txt')\n",
    "allusers= json.load(open(path2))\n",
    "print(\"Total number of users: \", len(allusers))"
   ]
  },
  {
   "cell_type": "code",
   "execution_count": 7,
   "metadata": {
    "collapsed": false
   },
   "outputs": [
    {
     "name": "stdout",
     "output_type": "stream",
     "text": [
      "Total Questions asked  42782\n",
      "Questions with accepted answers  25280\n",
      "Questions with no accepted answers  17502\n"
     ]
    }
   ],
   "source": [
    "print(\"Total Questions asked \", totalquestions)\n",
    "print(\"Questions with accepted answers \", totalQuestionswithacceptedanswers)\n",
    "print(\"Questions with no accepted answers \", totalQuestionswithnoacceptedanswers)"
   ]
  },
  {
   "cell_type": "code",
   "execution_count": 36,
   "metadata": {
    "collapsed": false
   },
   "outputs": [
    {
     "name": "stdout",
     "output_type": "stream",
     "text": [
      "Top 20 Users with most accepted answers:\n",
      "Robert Harvey : 575 accepted answers\n",
      "Doc Brown : 470 accepted answers\n",
      "Arseni Mourzenko : 381 accepted answers\n",
      "Bart van Ingen Schenau : 347 accepted answers\n",
      "Karl Bielefeldt : 323 accepted answers\n",
      "Kilian Foth : 248 accepted answers\n",
      "Telastyn : 235 accepted answers\n",
      "Thomas Owens : 232 accepted answers\n",
      "amon : 213 accepted answers\n",
      "GlenH7 : 210 accepted answers\n",
      "gbjbaanb : 190 accepted answers\n",
      "Jörg W Mittag : 170 accepted answers\n",
      "pdr : 157 accepted answers\n",
      "Mason Wheeler : 141 accepted answers\n",
      "Ixrec : 129 accepted answers\n",
      "Péter Török : 127 accepted answers\n",
      "tdammers : 123 accepted answers\n",
      "Michael Borgwardt : 121 accepted answers\n",
      "Yannis : 119 accepted answers\n",
      "Euphoric : 113 accepted answers\n"
     ]
    }
   ],
   "source": [
    "print(\"Top 20 Users with most accepted answers:\")\n",
    "for x,y in Counter(bestuser).most_common(20):\n",
    "    print(allusers[x],\":\",y,\"accepted answers\")"
   ]
  },
  {
   "cell_type": "markdown",
   "metadata": {},
   "source": [
    "#### Visualization of the top 10 tags in the stackexchange data set."
   ]
  },
  {
   "cell_type": "code",
   "execution_count": 9,
   "metadata": {
    "collapsed": false
   },
   "outputs": [
    {
     "name": "stdout",
     "output_type": "stream",
     "text": [
      "[('java', 3511), ('c#', 3007), ('design', 2886), ('design-patterns', 2475), ('object-oriented', 2036), ('c++', 1822), ('algorithms', 1732), ('php', 1667), ('architecture', 1639), ('javascript', 1578)]\n"
     ]
    },
    {
     "data": {
      "image/png": "[encoded data removed]",
      "text/plain": [
       "<matplotlib.figure.Figure at 0x7fe59ce57278>"
      ]
     },
     "metadata": {},
     "output_type": "display_data"
    }
   ],
   "source": [
    "import collections\n",
    "import numpy as np\n",
    "tagCount =  collections.Counter(list(tags)).most_common(10)\n",
    "print(tagCount)\n",
    "plot_tags(tagCount)"
   ]
  },
  {
   "cell_type": "markdown",
   "metadata": {},
   "source": [
    "#### Plot popularity of top 10 tags over recent years"
   ]
  },
  {
   "cell_type": "code",
   "execution_count": 11,
   "metadata": {
    "collapsed": false
   },
   "outputs": [
    {
     "data": {
      "image/png": "[encoded data removed]",
      "text/plain": [
       "<matplotlib.figure.Figure at 0x7fe59ce08ac8>"
      ]
     },
     "metadata": {},
     "output_type": "display_data"
    },
    {
     "data": {
      "image/png": "[encoded data removed]",
      "text/plain": [
       "<matplotlib.figure.Figure at 0x7fe59c51f048>"
      ]
     },
     "metadata": {},
     "output_type": "display_data"
    },
    {
     "data": {
      "image/png": "[encoded data removed]",
      "text/plain": [
       "<matplotlib.figure.Figure at 0x7fe59c4a4b70>"
      ]
     },
     "metadata": {},
     "output_type": "display_data"
    },
    {
     "data": {
      "image/png": "[encoded data removed]",
      "text/plain": [
       "<matplotlib.figure.Figure at 0x7fe59c3efda0>"
      ]
     },
     "metadata": {},
     "output_type": "display_data"
    },
    {
     "data": {
      "image/png": "[encoded data removed]",
      "text/plain": [
       "<matplotlib.figure.Figure at 0x7fe59c47eef0>"
      ]
     },
     "metadata": {},
     "output_type": "display_data"
    },
    {
     "data": {
      "image/png": "[encoded data removed]",
      "text/plain": [
       "<matplotlib.figure.Figure at 0x7fe59c337b00>"
      ]
     },
     "metadata": {},
     "output_type": "display_data"
    },
    {
     "data": {
      "image/png": "[encoded data removed]",
      "text/plain": [
       "<matplotlib.figure.Figure at 0x7fe59c2b68d0>"
      ]
     },
     "metadata": {},
     "output_type": "display_data"
    },
    {
     "data": {
      "image/png": "[encoded data removed]",
      "text/plain": [
       "<matplotlib.figure.Figure at 0x7fe5993ace10>"
      ]
     },
     "metadata": {},
     "output_type": "display_data"
    },
    {
     "data": {
      "image/png": "[encoded data removed]",
      "text/plain": [
       "<matplotlib.figure.Figure at 0x7fe59c388518>"
      ]
     },
     "metadata": {},
     "output_type": "display_data"
    },
    {
     "data": {
      "image/png": "[encoded data removed]",
      "text/plain": [
       "<matplotlib.figure.Figure at 0x7fe59936b4a8>"
      ]
     },
     "metadata": {},
     "output_type": "display_data"
    }
   ],
   "source": [
    "top_10_dict = dict()\n",
    "for key in tagCount:\n",
    "    top_10_dict[key[0]] = Counter(tags_by_year[key[0]])\n",
    "    \n",
    "for tag in top_10_dict:\n",
    "    labels, values = zip(*top_10_dict[tag].items())\n",
    "    indexes = np.arange(len(labels))\n",
    "    width = 1\n",
    "    plt.bar(indexes, values, width)\n",
    "    plt.xticks(indexes + width * 0.5, labels)\n",
    "    plt.show()"
   ]
  },
  {
   "cell_type": "markdown",
   "metadata": {},
   "source": [
    "#### Frequent Item Sets analysis for tags"
   ]
  },
  {
   "cell_type": "code",
   "execution_count": 12,
   "metadata": {
    "collapsed": false
   },
   "outputs": [
    {
     "ename": "NameError",
     "evalue": "name 'result_2' is not defined",
     "output_type": "error",
     "traceback": [
      "\u001b[0;31m---------------------------------------------------------------------------\u001b[0m",
      "\u001b[0;31mNameError\u001b[0m                                 Traceback (most recent call last)",
      "\u001b[0;32m<ipython-input-12-af4aec2d3cec>\u001b[0m in \u001b[0;36m<module>\u001b[0;34m()\u001b[0m\n\u001b[1;32m      9\u001b[0m \u001b[0mmodel\u001b[0m \u001b[0;34m=\u001b[0m \u001b[0mFPGrowth\u001b[0m\u001b[0;34m.\u001b[0m\u001b[0mtrain\u001b[0m\u001b[0;34m(\u001b[0m\u001b[0mtransactions\u001b[0m\u001b[0;34m,\u001b[0m \u001b[0mminSupport\u001b[0m\u001b[0;34m=\u001b[0m\u001b[0;36m0.005\u001b[0m\u001b[0;34m,\u001b[0m \u001b[0mnumPartitions\u001b[0m\u001b[0;34m=\u001b[0m\u001b[0;36m2\u001b[0m\u001b[0;34m)\u001b[0m\u001b[0;34m\u001b[0m\u001b[0m\n\u001b[1;32m     10\u001b[0m \u001b[0mresult\u001b[0m \u001b[0;34m=\u001b[0m \u001b[0msorted\u001b[0m\u001b[0;34m(\u001b[0m\u001b[0mmodel\u001b[0m\u001b[0;34m.\u001b[0m\u001b[0mfreqItemsets\u001b[0m\u001b[0;34m(\u001b[0m\u001b[0;34m)\u001b[0m\u001b[0;34m.\u001b[0m\u001b[0mcollect\u001b[0m\u001b[0;34m(\u001b[0m\u001b[0;34m)\u001b[0m\u001b[0;34m,\u001b[0m \u001b[0mreverse\u001b[0m\u001b[0;34m=\u001b[0m\u001b[0;32mTrue\u001b[0m\u001b[0;34m)\u001b[0m\u001b[0;34m\u001b[0m\u001b[0m\n\u001b[0;32m---> 11\u001b[0;31m \u001b[0mprint\u001b[0m\u001b[0;34m(\u001b[0m\u001b[0mlen\u001b[0m\u001b[0;34m(\u001b[0m\u001b[0mresult_2\u001b[0m\u001b[0;34m)\u001b[0m\u001b[0;34m)\u001b[0m\u001b[0;34m\u001b[0m\u001b[0m\n\u001b[0m\u001b[1;32m     12\u001b[0m \u001b[0;31m# Print only frequent item sets with >1\u001b[0m\u001b[0;34m\u001b[0m\u001b[0;34m\u001b[0m\u001b[0m\n\u001b[1;32m     13\u001b[0m \u001b[0;32mfor\u001b[0m \u001b[0mfi\u001b[0m \u001b[0;32min\u001b[0m \u001b[0mresult\u001b[0m\u001b[0;34m:\u001b[0m\u001b[0;34m\u001b[0m\u001b[0m\n",
      "\u001b[0;31mNameError\u001b[0m: name 'result_2' is not defined"
     ]
    }
   ],
   "source": [
    "import csv\n",
    "fp = open(\"output.txt\", \"w\")\n",
    "for key, val in tags_by_post_id.items():\n",
    "    fp.write(' '.join(str(e) for e in val))\n",
    "    fp.write(\"\\n\")\n",
    "\n",
    "data = sc.textFile(\"output.txt\")\n",
    "transactions = data.map(lambda line: line.strip().split(' '))\n",
    "model = FPGrowth.train(transactions, minSupport=0.005, numPartitions=2)\n",
    "result = sorted(model.freqItemsets().collect(), reverse=True)\n"
   ]
  },
  {
   "cell_type": "code",
   "execution_count": 13,
   "metadata": {
    "collapsed": false
   },
   "outputs": [
    {
     "name": "stdout",
     "output_type": "stream",
     "text": [
      "113\n",
      "FreqItemset(items=['testing', 'unit-testing'], freq=258)\n",
      "FreqItemset(items=['tdd', 'unit-testing'], freq=240)\n",
      "FreqItemset(items=['scrum', 'agile'], freq=316)\n",
      "FreqItemset(items=['open-source', 'licensing'], freq=320)\n",
      "FreqItemset(items=['object-oriented-design', 'object-oriented'], freq=225)\n",
      "FreqItemset(items=['object-oriented-design', 'design-patterns'], freq=257)\n",
      "FreqItemset(items=['object-oriented', 'java'], freq=289)\n",
      "FreqItemset(items=['object-oriented', 'design-patterns'], freq=390)\n",
      "FreqItemset(items=['object-oriented', 'design'], freq=353)\n",
      "FreqItemset(items=['gpl', 'licensing'], freq=352)\n",
      "FreqItemset(items=['design-patterns', 'java'], freq=303)\n",
      "FreqItemset(items=['design-patterns', 'design'], freq=475)\n",
      "FreqItemset(items=['design-patterns', 'c#'], freq=279)\n",
      "FreqItemset(items=['design', 'java'], freq=307)\n",
      "FreqItemset(items=['design', 'c#'], freq=257)\n",
      "FreqItemset(items=['database-design', 'database'], freq=218)\n",
      "FreqItemset(items=['c', 'c++'], freq=226)\n",
      "FreqItemset(items=['architecture', 'design'], freq=345)\n",
      "FreqItemset(items=['.net', 'c#'], freq=452)\n"
     ]
    }
   ],
   "source": [
    "print(len(result))\n",
    "# Print only frequent item sets with >1\n",
    "for fi in result:\n",
    "    if len(fi.items)> 1:\n",
    "        print(fi)"
   ]
  },
  {
   "cell_type": "code",
   "execution_count": 37,
   "metadata": {
    "collapsed": true
   },
   "outputs": [],
   "source": [
    "def get_top_co_occurences(str_tag, result_freq_items):\n",
    "    co_occurence_list = []\n",
    "    for fi in result_freq_items:\n",
    "        if str_tag in fi.items:\n",
    "            co_occurence_list.append((fi.items, fi.freq))\n",
    "    co_author_list1 = sorted(co_occurence_list, key=lambda x: x[1], reverse=True)\n",
    "    print(\"Top 5 tag co-occurrences, along with frequencies, for the tag \"+ str_tag + \" are -\")\n",
    "    for auth in co_author_list1[1:6]:\n",
    "        print(auth) "
   ]
  },
  {
   "cell_type": "markdown",
   "metadata": {},
   "source": [
    "We can now find co-occurences for the top 10 tags we found at the beginning of the analysis"
   ]
  },
  {
   "cell_type": "code",
   "execution_count": 38,
   "metadata": {
    "collapsed": false
   },
   "outputs": [
    {
     "name": "stdout",
     "output_type": "stream",
     "text": [
      "Top 5 tag co-occurrences, along with frequencies, for the tag java are -\n",
      "(['design', 'java'], 307)\n",
      "(['design-patterns', 'java'], 303)\n",
      "(['object-oriented', 'java'], 289)\n",
      "Top 5 tag co-occurrences, along with frequencies, for the tag c# are -\n",
      "(['.net', 'c#'], 452)\n",
      "(['design-patterns', 'c#'], 279)\n",
      "(['design', 'c#'], 257)\n",
      "Top 5 tag co-occurrences, along with frequencies, for the tag design are -\n",
      "(['design-patterns', 'design'], 475)\n",
      "(['object-oriented', 'design'], 353)\n",
      "(['architecture', 'design'], 345)\n",
      "(['design', 'java'], 307)\n",
      "(['design', 'c#'], 257)\n",
      "Top 5 tag co-occurrences, along with frequencies, for the tag design-patterns are -\n",
      "(['design-patterns', 'design'], 475)\n",
      "(['object-oriented', 'design-patterns'], 390)\n",
      "(['design-patterns', 'java'], 303)\n",
      "(['design-patterns', 'c#'], 279)\n",
      "(['object-oriented-design', 'design-patterns'], 257)\n",
      "Top 5 tag co-occurrences, along with frequencies, for the tag object-oriented are -\n",
      "(['object-oriented', 'design-patterns'], 390)\n",
      "(['object-oriented', 'design'], 353)\n",
      "(['object-oriented', 'java'], 289)\n",
      "(['object-oriented-design', 'object-oriented'], 225)\n",
      "Top 5 tag co-occurrences, along with frequencies, for the tag c++ are -\n",
      "(['c', 'c++'], 226)\n",
      "Top 5 tag co-occurrences, along with frequencies, for the tag algorithms are -\n",
      "Top 5 tag co-occurrences, along with frequencies, for the tag php are -\n",
      "Top 5 tag co-occurrences, along with frequencies, for the tag architecture are -\n",
      "(['architecture', 'design'], 345)\n",
      "Top 5 tag co-occurrences, along with frequencies, for the tag javascript are -\n"
     ]
    }
   ],
   "source": [
    "for key in tagCount:\n",
    "    get_top_co_occurences(key[0],result)"
   ]
  },
  {
   "cell_type": "markdown",
   "metadata": {},
   "source": [
    "As we see, not many co-occurences are captured at this minsupport. \n",
    "Also, the tags \"javascript\",\"algorithms\",\"php\" does not have any associated tags, it occurs by itself. We will be able to see more co-occurences if we decrease the minsupport."
   ]
  },
  {
   "cell_type": "markdown",
   "metadata": {},
   "source": []
  },
  {
   "cell_type": "code",
   "execution_count": null,
   "metadata": {
    "collapsed": false
   },
   "outputs": [],
   "source": []
  },
  {
   "cell_type": "code",
   "execution_count": null,
   "metadata": {
    "collapsed": true
   },
   "outputs": [],
   "source": []
  },
  {
   "cell_type": "code",
   "execution_count": null,
   "metadata": {
    "collapsed": false
   },
   "outputs": [],
   "source": []
  },
  {
   "cell_type": "code",
   "execution_count": null,
   "metadata": {
    "collapsed": false
   },
   "outputs": [],
   "source": []
  },
  {
   "cell_type": "code",
   "execution_count": null,
   "metadata": {
    "collapsed": true
   },
   "outputs": [],
   "source": []
  },
  {
   "cell_type": "code",
   "execution_count": null,
   "metadata": {
    "collapsed": true
   },
   "outputs": [],
   "source": []
  },
  {
   "cell_type": "code",
   "execution_count": null,
   "metadata": {
    "collapsed": true
   },
   "outputs": [],
   "source": []
  },
  {
   "cell_type": "code",
   "execution_count": null,
   "metadata": {
    "collapsed": true
   },
   "outputs": [],
   "source": []
  }
 ],
 "metadata": {
  "anaconda-cloud": {},
  "kernelspec": {
   "display_name": "Python 3",
   "language": "python",
   "name": "python3"
  },
  "language_info": {
   "codemirror_mode": {
    "name": "ipython",
    "version": 3
   },
   "file_extension": ".py",
   "mimetype": "text/x-python",
   "name": "python",
   "nbconvert_exporter": "python",
   "pygments_lexer": "ipython3",
   "version": "3.6.0"
  }
 },
 "nbformat": 4,
 "nbformat_minor": 1
}
